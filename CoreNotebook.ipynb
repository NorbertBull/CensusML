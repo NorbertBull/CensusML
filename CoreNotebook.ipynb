{
 "cells": [
  {
   "cell_type": "markdown",
   "id": "a5cab45a",
   "metadata": {},
   "source": [
    "# Income Prediction Model - Capstone Project by Norbert Bull\n",
    "***"
   ]
  },
  {
   "cell_type": "markdown",
   "id": "af8adf22",
   "metadata": {},
   "source": [
    "For easier reading, the code blocks in this app are hidden by default. You may toggle them on or off using the button below. "
   ]
  },
  {
   "cell_type": "code",
   "execution_count": 1,
   "id": "2496f58c",
   "metadata": {},
   "outputs": [
    {
     "data": {
      "text/html": [
       "<script>\n",
       "code_show=true; \n",
       "function code_toggle() {\n",
       " if (code_show){\n",
       " $('div.input').hide();\n",
       " } else {\n",
       " $('div.input').show();\n",
       " }\n",
       " code_show = !code_show\n",
       "} \n",
       "$( document ).ready(code_toggle);\n",
       "</script>\n",
       "<form action=\"javascript:code_toggle()\"><input type=\"submit\" value=\"Show/hide code\"></form>"
      ],
      "text/plain": [
       "<IPython.core.display.HTML object>"
      ]
     },
     "execution_count": 1,
     "metadata": {},
     "output_type": "execute_result"
    }
   ],
   "source": [
    "from IPython.display import HTML\n",
    "\n",
    "HTML('''<script>\n",
    "code_show=true; \n",
    "function code_toggle() {\n",
    " if (code_show){\n",
    " $('div.input').hide();\n",
    " } else {\n",
    " $('div.input').show();\n",
    " }\n",
    " code_show = !code_show\n",
    "} \n",
    "$( document ).ready(code_toggle);\n",
    "</script>\n",
    "<form action=\"javascript:code_toggle()\"><input type=\"submit\" value=\"Show/hide code\"></form>''')"
   ]
  },
  {
   "cell_type": "markdown",
   "id": "e84b2865",
   "metadata": {},
   "source": [
    "## Project Summary\n",
    "\n",
    "In order to better target advertisements for their clients, the Omni Advertising Agency has requested a machine learning model capable of predicting whether an individual makes more than \\\\$50,000 USD per year. The data available to them based on their current customer profile includes years of education, sex, race, and marital status. The following machine learning model is able to predict whether an individual makes greater than \$50,000 per year with approximately 80% accuracy.\n",
    "\n",
    "Explore the project using the navigation bar below to jump to your desired section:\n"
   ]
  },
  {
   "cell_type": "markdown",
   "id": "d860b24f",
   "metadata": {},
   "source": [
    "[Data Exploration](#dataexploration) | [Make a Prediction](#prediction) | [Evaluating our Model](#evaluation)"
   ]
  },
  {
   "cell_type": "code",
   "execution_count": 2,
   "id": "a3169e2c",
   "metadata": {},
   "outputs": [],
   "source": [
    "## Package Imports\n",
    "\n",
    "import pandas as pd\n",
    "import matplotlib.pyplot as plt\n",
    "import numpy as np\n",
    "import seaborn as sns\n",
    "from sklearn import preprocessing\n",
    "from sklearn.model_selection import KFold, cross_val_score, train_test_split\n",
    "\n",
    "## Import Raw Data\n",
    "\n",
    "census = pd.read_csv(\"adult.csv\")\n",
    "\n",
    "# Cells in many columns have ? as a missing data placeholder. \n",
    "# We will remove these cells\n",
    "\n",
    "census.drop(census[census['workclass'] == \"?\"].index, inplace = True)\n",
    "census.drop(census[census['occupation'] == \"?\"].index, inplace = True)\n",
    "\n",
    "# At this point, we need to create a copy of our data for the correlation matrix.\n",
    "census_for_correlation = census.copy()\n",
    "\n",
    "# Next, delete the categorical education column. The same data is present in numerical form,\n",
    "# and we do not want this variable to be represented twice in our model.\n",
    "census.drop(\"education\", axis=1, inplace = True)\n",
    "\n",
    "# The fnlwgt column is used for controlling statistical analysis. It is not necessary for our model.\n",
    "census.drop(\"fnlwgt\", axis=1, inplace = True)\n",
    "\n",
    "#Several other columns represent data unavailable to our company for analysis, so we will drop those.\n",
    "census.drop(\"workclass\", axis=1, inplace = True)\n",
    "census.drop(\"capital.gain\", axis=1, inplace = True)\n",
    "census.drop(\"capital.loss\", axis=1, inplace = True)\n",
    "census.drop(\"hours.per.week\", axis=1, inplace = True)\n",
    "census.drop(\"native.country\", axis=1, inplace = True)\n",
    "census.drop(\"relationship\", axis=1, inplace = True)\n",
    "\n",
    "#Before we change income - make a copy for visualization later\n",
    "census_incomecopy = census.copy()\n",
    "\n",
    "# Make target column and sex column numerical\n",
    "replacements ={\"sex\":{\"Male\": 0, \"Female\": 1},\n",
    "        \"income\":{\"<=50K\": 0, \">50K\": 1}}\n",
    "census = census.replace(replacements)\n",
    "\n",
    "\n",
    "# Split into X/y\n",
    "X = census.drop(\"income\", axis=1)\n",
    "y = census[\"income\"]\n",
    "\n",
    "myparams = []\n",
    "categorical = ['marital.status', 'occupation', 'race']\n",
    "\n",
    "\n",
    "maritalle = preprocessing.LabelEncoder()\n",
    "occle = preprocessing.LabelEncoder()\n",
    "racele = preprocessing.LabelEncoder()\n",
    "X['marital.status'] = maritalle.fit_transform(X['marital.status'])\n",
    "X['occupation'] = occle.fit_transform(X['occupation'])\n",
    "X['race'] = racele.fit_transform(X['race'])\n",
    "\n",
    "X_neigh = X[['age', 'education.num']]\n",
    "\n",
    "\n",
    "# Split into training and test\n",
    "X_train, X_test, y_train, y_test = train_test_split(X, y, test_size=0.2)"
   ]
  },
  {
   "cell_type": "code",
   "execution_count": 3,
   "id": "93c2d226",
   "metadata": {},
   "outputs": [],
   "source": [
    "#Prep Correlation Data\n",
    "census_for_correlation.drop(\"education\", axis=1, inplace = True)\n",
    "census_for_correlation.drop(\"workclass\", axis=1, inplace = True)\n",
    "census_for_correlation.drop(\"capital.gain\", axis=1, inplace = True)\n",
    "census_for_correlation.drop(\"capital.loss\", axis=1, inplace = True)\n",
    "census_for_correlation.drop(\"hours.per.week\", axis=1, inplace = True)\n",
    "\n",
    "# Make target column and sex column numerical\n",
    "replacements ={\"sex\":{\"Male\": 0, \"Female\": 1},\n",
    "        \"income\":{\"<=50K\": 0, \">50K\": 1}}\n",
    "census_for_correlation = census_for_correlation.replace(replacements)\n",
    "\n",
    "census_for_correlation['marital.status'] = maritalle.transform(census_for_correlation['marital.status'])\n",
    "census_for_correlation['occupation'] = occle.transform(census_for_correlation['occupation'])\n",
    "census_for_correlation['race'] = racele.transform(census_for_correlation['race'])"
   ]
  },
  {
   "cell_type": "markdown",
   "id": "f1617a48",
   "metadata": {},
   "source": [
    "<a id='dataexploration'></a>"
   ]
  },
  {
   "cell_type": "markdown",
   "id": "9b1add6a",
   "metadata": {},
   "source": [
    "## Data Exploration - Summary Statistics and Variable Correlation Matrix\n",
    "\n",
    "The cleaned dataset obtained from UCI's Machine Learning Repository contains census response data from 30,718 individuals. Fewer than half of the individuals surveyed make over $50,000 per year:"
   ]
  },
  {
   "cell_type": "code",
   "execution_count": 4,
   "id": "8c8aa941",
   "metadata": {},
   "outputs": [
    {
     "data": {
      "image/png": "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\n",
      "text/plain": [
       "<Figure size 360x360 with 1 Axes>"
      ]
     },
     "metadata": {
      "needs_background": "light"
     },
     "output_type": "display_data"
    }
   ],
   "source": [
    "# Count of income info overall\n",
    "from matplotlib import rcParams\n",
    "rcParams['figure.figsize'] = 5, 5\n",
    "ax = sns.countplot(x=census_incomecopy['income'])\n",
    "var = ax.set_title(\"Count of individuals by income level\\nn = 30718\")"
   ]
  },
  {
   "cell_type": "markdown",
   "id": "d84a7c75",
   "metadata": {},
   "source": [
    "The distribution by sex is also uneven, with proportionally fewer women represented in the >50K per year category. The relatively small sample size of women in the greater than >50K per year income category may make our model less accurate at classifying incomes."
   ]
  },
  {
   "cell_type": "code",
   "execution_count": 5,
   "id": "a44a949e",
   "metadata": {},
   "outputs": [
    {
     "data": {
      "image/png": "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\n",
      "text/plain": [
       "<Figure size 360x360 with 1 Axes>"
      ]
     },
     "metadata": {
      "needs_background": "light"
     },
     "output_type": "display_data"
    }
   ],
   "source": [
    "# Count of income info by sex\n",
    "ax = sns.countplot(x=census_incomecopy['income'], hue=census_incomecopy['sex'])"
   ]
  },
  {
   "cell_type": "code",
   "execution_count": 6,
   "id": "9110a240",
   "metadata": {},
   "outputs": [
    {
     "data": {
      "text/html": [
       "<script>\n",
       "code_show=true; \n",
       "function code_toggle() {\n",
       " if (code_show){\n",
       " $('div.input').hide();\n",
       " } else {\n",
       " $('div.input').show();\n",
       " }\n",
       " code_show = !code_show\n",
       "} \n",
       "$( document ).ready(code_toggle);\n",
       "</script>\n",
       "<form action=\"javascript:code_toggle()\"><input type=\"submit\" value=\"Show/hide code\"></form>"
      ],
      "text/plain": [
       "<IPython.core.display.HTML object>"
      ]
     },
     "execution_count": 6,
     "metadata": {},
     "output_type": "execute_result"
    }
   ],
   "source": [
    "HTML('''<script>\n",
    "code_show=true; \n",
    "function code_toggle() {\n",
    " if (code_show){\n",
    " $('div.input').hide();\n",
    " } else {\n",
    " $('div.input').show();\n",
    " }\n",
    " code_show = !code_show\n",
    "} \n",
    "$( document ).ready(code_toggle);\n",
    "</script>\n",
    "<form action=\"javascript:code_toggle()\"><input type=\"submit\" value=\"Show/hide code\"></form>''')"
   ]
  },
  {
   "cell_type": "markdown",
   "id": "1ff29516",
   "metadata": {},
   "source": [
    "### Correlation Matrix - which variables matter?\n",
    "\n",
    "The following correlation matrix can be used as a descriptive method to visualize which features of our dataset are correlated with income, and which can be safely dropped. Income has approximately 0 correlation with the **fnlwgt** feature, so that feature is dropped in the final analysis.\n",
    "\n",
    "**Age** and **education.num** (representing educational attainment) have a strong positive correlation with **income**, indicating that as age and educational attainment increase, income also increases.\n",
    "\n",
    "**Sex** holds a moderate negative correlation with **income**. In our model, Male respondents are coded as a 0 and Female respondents are coded as 1. This correlation indicates that being female has a negative correlation with predicted income."
   ]
  },
  {
   "cell_type": "code",
   "execution_count": 7,
   "id": "07bfa0d4",
   "metadata": {},
   "outputs": [
    {
     "data": {
      "image/png": "iVBORw0KGgoAAAANSUhEUgAAAwwAAALuCAYAAAADhJFGAAAAOXRFWHRTb2Z0d2FyZQBNYXRwbG90bGliIHZlcnNpb24zLjMuNCwgaHR0cHM6Ly9tYXRwbG90bGliLm9yZy8QVMy6AAAACXBIWXMAAAsTAAALEwEAmpwYAAC/mUlEQVR4nOzdd3wU1frH8c8TQHrv7YICKoiC0ozovYpSFMWCiqI0FbFcFbFx7RU7gl5/oqKCil1UREXFCgIWvKgUBZEqBAi9BkKe3x8zCUnIJlFIdpP9vl+vfZGdPbP77GFmds6c55wxd0dERERERCQnCdEOQEREREREYpcaDCIiIiIiEpEaDCIiIiIiEpEaDCIiIiIiEpEaDCIiIiIiEpEaDCIiIiIiEpEaDCISNWbW38ym7sP6H5lZv/0ZU2Ezs3+Y2RYzK7Gf39fM7AUzW29m3+VznTFmdu/+jCOHzzjezJYX5Gf8HWb2pZldks+yMfkdREQKihoMInHOzHqb2Q/hSevK8CT82GjHlZ2Z3WlmL2de5u4nu/vYAvisMWbmZtYj2/IR4fL++XyfxWZ2Um5l3H2pu1dw9937EHJOjgU6Aw3cvX0Ose1TY03yp7DqWf+fIlKQ1GAQiWNmNgQYAQwDagP/AP4POP1vvFfJ/CwrQuYDGb0X4Xc5B1i4vz6ggOunEbDY3bcW4GeIiEgcUINBJE6ZWWXgbuBKdx/v7lvdfZe7v+/uN4RlSodX1VeEjxFmVjp87XgzW25mN5lZEvBC2Avwlpm9bGabgP5mVtnMngt7L/40s3sjpd+Y2UgzW2Zmm8xsppkdFy7vBtwM9Ap7Qn4Kl2ekkZhZgpndamZLzGy1mb0YfkfMrHHYM9DPzJaaWbKZ3ZJHFb0PdDSzquHzbsDPQFKmeJuY2edmtjZ8z3FmViV87SWCBtj7Ycw3ZorjYjNbCnyeaVlJM6sW1ulp4XtUMLPfzaxvhPqqZ2YTzGxdWG5guPxiYDSQGH72XdnWaw6MyvT6hkwvVzWzD8xss5l9a2ZNMq13qJl9Gn7eb2Z2bqTKC7/LC+F2s97M3s3lO7xtZmvMbJGZXZ3ptfZmNt3MNoTbz3/N7IBMr7uZXWZmC8LPeNLMLNPrF5nZvPC1j82sUabXOpvZr2a20cz+C2Ssl0OMZS3odVpvZnOBdtleH2pmC8M6m2tmZ+ZWz2bW3cz+F27ny8zszkzvVSbcf9aG3/t7M6sdvpbjvpTH/6eIyD5Tg0EkfiUCZYB3cilzC3A00BpoBbQHbs30eh2gGsHV7EvDZacDbwFVgHHAWCAVaAocCXQBIuWKfx9+VjXgFeBNMyvj7pMIekFeD9N3WuWwbv/wcQJwEFAB+G+2MscChwAnAreHJ1qR7AAmAOeFz/sCL2YrY8D9QD2gOdAQuBPA3fsAS4HTwpgfyrTev8LyXTO/mbuvAy4CnjWzWsBjwCx3z/656V4FloeffzYwzMxOdPfngMuA6eFn35Htc+Zle71KppfPB+4CqgK/A/cBmFl54FOC/5daYbn/M7PDIsT2ElAOOCws/1j2AmaWQNAw+wmoT/D/MtjM0utlN3AtUINgez0RuCLb25xKcALfCjiXsE7N7AyCRuZZQE1gSlhfmFkN4G2CbbkGQa9RxwjfA+AOoEn46EqmnqfQQuA4oDJB3b1sZnVzqeetBNtTFaA7cHkYL+F7VybYlqqH628PX8txX8rj/1NEZJ+pwSASv6oDye6emkuZC4C73X21u68hOBnqk+n1NOAOd09x9/STmunu/q67pwGVgJOBwWEPxmqCE8fzyIG7v+zua9091d0fBUoTnODnxwXAcHf/w923AP8BzrOsaT93uft2d/+J4CQ1p4ZHZi8CfS3oqfgX8G62eH9390/D778GGB6Wy8udYX1sz/6Cu38CvAl8RnAyOSinNzCzhgQNoJvcfYe7zyLoVeiTU/m/YLy7fxduF+MIGnAQnJgvdvcXwv+fHwlOus/OIba6BP/vl7n7+rDn6qscPqsdUNPd73b3ne7+B/As4fbh7jPdfUb4eYuBp9m7fh9w9w3uvhT4IlO8g4D73X1e+F2GAa3DXoZTgLnu/pa77yJIy0sisnOB+9x9nbsvAx7P/KK7v+nuK9w9zd1fBxYQNK5z5O5fuvsvYfmfCRoy6d9rF8G+2dTdd4d1sCnsZcj3viQisj8V5fxiEdk3a4EaZlYyl0ZDPWBJpudLwmXp1rj7jmzrLMv0dyOgFLAyU6ZIQrYyGczsOoLeh3qAEzQ4auT9VSLGWpJgbEa6zCeF2wh6ISJy96lmVpPgSvREd9+e6XsQ9gI8TnB1uSLBd1ufj1hz/P6ZPAP8Gxjm7msjlKkHrHP3zZmWLQHa5uPzcxOpjhoBHbKlu5Qk6EnIrmEYW1510Qiol+09SxD0BmBmBxM0wtoS9FaUBGb+hXhHmtmjmV43gp6MemT6P3B3N7Pc/k+ylCfrdkaYMjYEaBwuqkAu262ZdQAeAFoCBxA0jN8MX36JoP5esyC97WWCnr6/tC+JiOxP6mEQiV/TCdJuzsilzAqCE5V0/wiXpfMc1sm8bBmQAtRw9yrho5K775XGYsF4hZsIruZWDdMqNrIntzynz8or1lRgVR7r5eVl4Dr2TkeCIB3JgSPcvRJwIVlz4SPFHPG7WDC+4+nw8y43s6YRiq4AqplZxUzL/gH8Gem98xtDBMuArzL9P1YJ018uj1C2WnjCm9d7Lsr2nhXd/ZTw9aeAX4FmYf3eTC5jDXJ470HZ3rusu08DVhKclAPBFLSZn+dgZbbX/5Fp3UYEvSL/BqqH2+1sct9uXyFId2vo7pUJxh8YQNgbc5e7twCOIejZ6Uve+9Jf/f8UkSLIzJ63YJze7Aivm5k9bsG4tp/N7Kj98blqMIjEKXffCNwOPGlmZ5hZOTMrZWYnm1l6vv2rwK1mVjPM+76d4AQ6v5+xEvgEeNTMKlkwMLmJmeWUtlOR4AR/DVDSzG4n6GFItwpoHOa95+RV4FozO9DMKrBnzENuKVf58TjB9KRfR4h5C7DBzOoDN2R7fRXBeIq/4ubw34uAR4AXLYdB4mFqzDTg/nCg7BHAxQRpRPmxCmiQeRBxHiYCB5tZn3A7KWVm7XIaBxL+v39EMMahalj2nzm853fAJgsGzpcNB/C2NLP0QcUVgU3AFjM7FMipcRLJKOA/6WMswgHD54SvfQAcZmZnhSlrVxOMx4nkjfC9qppZA+CqTK+VJzhZXxN+zgCCnoN0OdVzRYIemB1m1h7onf6CmZ1gZoeH/+ebCFKUdudjX/qr/58iUjSNIZiEI5KTgWbh41KCCy/7TA0GkTjm7sMJUiluJTjhWUZwpfTdsMi9wA8EswP9AvwYLvsr+hKkXcwlSNd5C6ibQ7mPCU4y5xOkfOwga7pFesrGWjP7MYf1nydI5/gaWBSuf1UO5f6SMG/9M3fP6QruXcBRBD0hHwDjs71+P0GDa4OZXZ/XZ5lZG4L/j74e3JfhQYKT0aERVjmfIA1mBcHg9Tvc/dO8vxUAnwNzgCQzS86rcJj61IUgZ34FQSrQgwTpNDnpQ3Cy+yuwGhicw3vuBk4jGHewCEgmGIdROSxyPcHJ9GaCq/iv5+eLhe/9ThjfaxbM2DWb4IcUd08mmCL3AYLUvGbAN7m83V0E2+QigpP2jDQsd58LPErQY7cKODzbe+VUz1cAd5vZZoJG+BuZytch2Ec2AfOAr9jTSM9tX/pL/58iUjS5+9fAulyKnA686IEZQJVwXNk+sZx/A0VEREREirem5RN82+7YORdemcIcggte6Z5x92cylzGzxgTj6jL3Zqa/NpFgMoip4fPPCCbH+GFf4tKgZxERERGJS9t2O5c2jp3T4bt+S93h7vsyeUVO47z2uUWklCQRERERkeJhOVknaWhA1slK/hY1GEREREREiocJBPcPMjM7GtgYTpqwT2KnD0ZEREREpJDld67mWGBmrwLHE9xHaTnBnehLAbj7KOBDgptT/k5wb5oB++Nz1WAQERERESkC3P38PF534Mr9/blKSRIRERERkYjUwyAiIiIicckseEju1MMgIjHBLOshO/tzERERiQ71MIhI1JmZpd9J2cyOILg7MMDO6EUlIiLxQFfP86Y6EpGoy9RYuBwYD7wMXGhmNaMamIiIiKjBICLRkzntyMzqAUcBxwJvA4cB56vRICIiEl1KSRKRqMiWhnQpUAOo4+5JwOtmths4BrjIzJ5z9+QohhtVmetKRET2L42Yy5t6GEQkKjI1Fs4ALgGWAcea2fDw9beAmUAVYHd0ooy+bA2ri8zs4mjHJCIi8UU9DCJSqLKdAB8L9AcecPfxZjYJ+N7McPch7j7OzCq6++ZoxhxNmerqBuBMYGDm19X7ICIiBU0NBhEpVJlOgA8AthP0HnQ3s5/d/XczawcsNLMUd/9PPDcW0plZLaCTux9jZjXCXplj3f16NRZERPaNMpLyppQkESl0ZnY0MBH4A7gD2AqcaWYHufsa4EDguSiGGDPMrD6QDFQ3s/eAkcA/gS7p6VsiIiIFSQ0GESlwOdyEbRHwM/AMsBwYA9QH+phZY3df6+6/F26UscfMWgN3Aq2BU4AvgLvcfQhwC1DSzEpFKz4REYkPajCISIHLlIbUOny+CngImA88DywAXgPKAZuiE2VM2kLQC9MPONTdR7j7fDMbAtwLPOPuu6IaoYhIEWYEsyTFyiNWqcEgIgUmvWfBzEqYWXVgkpkNDV9eA/wfUJqgsTAHuN3d10Ul2CjLdk+Ks8ysRtjL8hqwBDjHzP5pZqWBI4EL3H12lMIVEZE4ogaDiBSIbLP3lHD3tUAn4AIzu94DfxJMnboWqOTuKdGKN5rMrHymXpiqQAdggplVc/dFwASgCXAt0BLop8aCiIgUFs2SJCL7XQ43ZTvJzD4AxgGnA++ZWSUgheDmbBeGN2yLO2GPwWAz+w6oTDCg+T/AXcDbZnZOOHvUNKA2sNzd06IXsYhI8aKr53lTg0FE9rtMjYWewDnAWwT3EKgPPAmcClwENAaGxGtjAcDdU8zsHWA2QepRE3dPM7NbgXuAGWY2hqD+eobjP0RERAqNGgwiUiDMrD3BDD9XuPsUM/sZ6AtcAYxz9zvi+aZj6d/dzEoQNBTeBroCPYB33X0HcIOZzQUaAH3cfXHUAo4RmeqtNpDg7iszL49yeCIixZJ6YUSkoOwAkoD/mFlpd58OvAAcBvQ0swPi9QQv28ltTWCnu58D/AsYY2b9w3InABPc/R53nxudaGNL2FjoAUwGXjOzezMtj+E5RkQkVkV7ZqSiMEuSehhEpEC4+89mdiVwDTDSzK5x9+/M7DHgT3ffGeUQoyZTytYNwHFAJTMb4e7vmtkpwGQz60AwnuEUgkHhAphZM2BA+FgDTA0bYLekNxritSEqIlJQ1MMgIvskp6u6ZpZ+bFlAMGZhJ/B82KswM17HLGSbOnUQ0NXdexD0xtxvZv3cfRrBLEkLgDPcfUl0oo09ZtYAGAaUAn4P6+ZooLeZPQp7GmMiIvllMfSIVWowiMjflm02pEpmdgBAOGi3ZPjar8DTwGqgWvSija4wLSu9rgxYB1wa3oQtheBGbMPM7ApgnrsPd/cF0Ys4NmRuZLn7cuANgt/VE82sejg17z+BC83sYKUliYjsf0pJEpG/JVtj4TqC6VJnm9mn7v6Ou6eGRQ9x9zlmdmO83pXYzMoB15rZG0BroIW732VmdYATgd7uvtHMLiBIUXoJ2By1gGNEpgHOnYD2wFaCcTDbgfMAN7Ov3X2Zmf0jXu/jISJS0NRgEJG/JVNjoR1BWshtwD+AK82slLu/YWa1gCvM7C53T45iuFHl7tvM7H/Ab+GjZfhSMrCBYDakBQQnxEPdPe4bC5AxkPkk4FGCRtQRBDf660DQy9APSDCzd4G4bIyKyL4xYnuwcaxQg0FE/rbwZO4F4BF3/yq8kr4FuDwcr/By2LOwPbqRRke2Abj/Az4i6EFoTnDfhQSC+jsVuBIYEO9jFsJel4PCsRwAXYD/c/enw9fvAd529xPNrB4wP1NvloiIFACNYRCRfMueH+7ukwlOgnubWRl33xY+fx7oZWYV1VgAM7sQONTduxPcsO4bMzs+nClqF3AD0Mnd50Qv4ugzs5IEDap14Z3AAbYR3PAvffu7F1huZmXd/Wl3/zk60YqIxA/1MIhIvmQ7Ae4OVAd+c/dLzWwU8L6ZneHuW8M7F0909y3RjDmaMtXVFcDlwBnh8rfCm7V9YGaPA6cBXdx9RbRijRXunhpuOxWBR81sHDCW4G7Xi939eTNrQ5CaVNPMlmlWJBHZV8pIypt6GEQkXzKdAA8hGK9wLHCVmT3m7pcBfwCfmVk5d0+J58ZCOjNrTJBnf6a7LzSzs8zsUmASwf0VdgI9472xYGZlwoYABONg2gFzgQuA8gQ3tLvGzJ4nmHHrVndfqsaCiEjhUA+DiOTKzBoC29x9rZmln7yd6u7J4QnxDWZ2kbsPCk/oagBLoxhyVJlZgrunhU9XAZ8BI8wsGagMbAQqu/vDZjbV3XdHK9YYUh/4l5n9GzgSOIlgjMeZwBBgBMHA+spAJXefrxu0iYgUHvUwiEhEZlYTGATsNLMyBPn2jYFjwiLLgZ8IZ/1x94vcPS4bC2b2D8i4B0VC+Pd2YCIwAbjH3c8kGPx8SJiPnxbp/eLMYqAcQY/CN+6eHPa6fAB8D9wEnOjuSe4+H3SDNhHZTwwSYugRq9RgEJEchVdw1wD3AwcDlwK7gXsIZkE6PpydJg2oE6aVxPDhruCYWTVgpJndAHtuXBf+Pc3dnwlTkvoRpCgN91AUw4669O0l7GV5Ebge2G5mN4RT8y4GpgBTCRoVIrKfZD9ex+vxW/JHKUkispdwhppyQBJBilEjgjEL24CvgJeBV8zsPYL0kdPdfUeUwo0FW4FRwEVmdo27jwwH8JZMn/LTzJoBbYG+7j43msHGgkw3ZTueYAD9Znd/3MxOIbgJ4KVm9hOQCIx199XRi1ak+Mk0Lu1KgrTA6mZ2d3j3dJEs1GAQyafsOdPFNYc6nMHnn0CjcIxCe3f/l5ntAM4Pi71MkCpSERjm7suiEmyUpW8D7p5iZl8BqcC/zYz0RkNYrq27/2Bm1+tuxIGwsXAqMIzgxmy3m9kR7v6ImaUC5wK3AAPVWBApGOEsbmcSzOQ2HriOYNxQXFHXSt7UYBDJh/CGZA2B38zsGGBBmK5T7Lj7bjP7BhgKNCO4bwDu/mGYm38OUAEYl55PHo+yTTNbDkhx98/Cbv0r0xsNZlYWOMvM/nT3lVENOoaYWX3gGoLpZtsD24ELzayCu98JfGJmB7n7H8W1cS4SA+oBZwMXA0uAG8Pxahav99CRnKnBIJI/tQlmA9pAcHA9EyhWDYbMJ2Xuvt7M/o/gLrutzWy1u3/v7hPN7ACgK8EA6LiVqbFwNUG61hYze9PdPwpTgS8Lb2b3oJnd4e5xXV85WAdcBlQD/kPQq9UBeCdsNFzv7n+ABjiL7A/ZZnBL702uTzC5wBLgrDCVchCww8ye174n6TToWSQf3H0R8B1wJUE+9f/SXysOA8WyXS3vamZHEIxVuILgB+UsMzvIzM4FVgJD3H1D1AKOEWF3/lnAjQRTfj5tZr09uAP288ARZlZVjYU9+4mZHW5mLYHq7r6QYPzCh+6+EXDgceD96EUqUjylNxbM7Ewz+ydBY/1e4EBgirvvDCdmuBL4Kl4aCwaYxc4jVqmHQSQfwlz+pUB/goGtFwDvuvtWoARB7nqRlamxcC1BytEUghtojSSY0nIYcDvQDTgh/N5xJ+wx2BH+XYMgjeZMgu0iAbgKeMzM0tz9NTP70t23RS3gGBKOWegEjCG4N8VJ4X60FuhoZvcCFwLnufsMpSGJ7B/ZLgidD9wHfEMwicWLwMkEk1gcAxwEnOPuv0crXolNajCIRJBpFpejCE4El7j7nWa2huDkeWuY03+emfUp6oNZzexEoJu7H2NmIwgaDNcS3DTrGoIfklvidQYNM6sIdDKzBUALggbCe0AloDtwvruvMbPLgVvM7AN33xy9iGOLmbUimP3ofHf/xsz6AM8RNEKvJ5i69xJ3nwFKQxLZH7I1FuoQHNePB9YDvQnGqP0f0Bo4ACjj7mujEmwUxfCF/ZihBoNIBGFjoTtwA7AM6GZm2wmuut9DcKD9B/BEUWwsZPshKQH8QTCV5cXAEUAvgitRjxDMhPRB1IKNMjOr4u4bwvEbLxGkH7V29y0W3P16FdAg3F5+AfqpsbBH2LD+D8FdnD8Op5t9yczqAne7+wUEKX8isp9kO8YPIRhr1Qb43t0/N7MPw6I3Ac+7+ySCKaJF9qIxDCIRmFkFghz+m9y9D0Ej4R8EU85NBS4hGCT2RlEbx5Dth6Qf8G9gsbsvIbjnwq3uvpygEfEVwd2J45KZNSAYm2AEd7ZuBPxAcEWccErZVQTbyn8IxrisilK4McfMmgPtCGZh+RY4EagbvjwXSCtq+49IUZDpGN+dYFKBawjGB91rZvXCY9ck4CPgp6gFKkWCGgwiOTCz+u6+BdhCMHML4RX2eQRX3i8KFgVTqxa19IlMPyRXEPyITMr0HQ4AxpnZ9QQDeke5+4roRBpdYcNqOTAIOIFgZqgDgU8Ipk7tGhZ9kqA3pr27z45KsDHGzBLC6RlPBQYSpHFdSdDofsbM7iTovXurqO0/IkWFmR1CcI+FDe6+zN3/TXDB400zaxheJHop3qd8TjCPmUesUoNBJBszqw4MNbNjgdcIUk3STwy/Bn4HehBMtVqkZJqpxsysCkEX9fnu/luYboO7DyVIQ6oEXODuS6MVbzRlG3RbM3y8AjQnuHHdL0AvM3uWYJzHpnCmHwmUCAeIv03Qk9CXoO76E0xJ3Iqg9+69qEVYxJhZJzPrYWa1wjQvkSxy6K1bAbwD1DOzvgDufjXwKzAmTEfdXbhRSlGkA45kUFoAhFNgriWYuaUNQXftGuBqM3sNeJNgCs0/Ca6YFimZ7rPg4bSoJQgG8pZw950A4UwZz7n77fF8tTxbytbTwLvAA8BoggGCTwATgPLAf9x9XVQCjUFm1gz4ysxqh/dSGE8wz/tVQPoVz53A+WZWK3qRFh1mNpggLfJ44HOgbTTjkdiTLdW0l5ldCpwCvAGMI5iN7EIAd78Y6O3uu9XDJ/mhBkMcM7MTzaxveFApcmk1+5uZtQbeMrNzgP8SpFF0cfeHgasJTg5PI8i/Pg6YE6VQ94mZXWBmr4RPPwQaAB3D13oBtxH0LsQ9M+tIMJNIb3dPcffngceAUcA/3f1doE88N6zSZeq9qkwwScB3wGtmVsvdFxM0uA4jSO/aTrBPVY9KsEWMmR1GsL11BBYS3Avlh0yvx/3FHgAzKx3tGKIpU2PhEuDWcPGdwKUE4+6+AU4Lj/MAqws7xlhlMfSIVWowxKkwxeYxgu7KJyyYfz/umFn2mcIaAA8TDBB7AbjczA5y94Xu/grBifQw4OyikqqTw8nEBIIrTQ+7+1hgB3C9mU0kGLR7o7vH5Q9JtpStCsBRBD1JZ6WXcfcXgGeBe8ysHMHNxuJa+pVNM+tB0PNSlWB8wvcEudIVCNIeFgMj3T0tHBjeN163tb9oBfCTmT1PkA55srunmdmFFtwVW9tg8Jt2Rvh3XJ3bZDpuJZhZJYILW5e7+zNAV6BLuOxlgob716CLhPLXxNVOJRkHlNJAH+D8cPEsgi7LuGFmTc3sUHdPNbMjwysufwDnEtxU6giCVJMuwMnpP0Du/gNwrrv/Eq3Y/wozK5XpqtPBZlY3nO6zJXCmmQ1393uAfgR3/OxWVL7b/pZtzEJpd9/i7k8Q1EsbMzszvay7PwV0d/dtHt49NZ6FjYWOBFczn3H3lR7c3XooMJNgdqQPgBfcfW6m9eK+7nJjZpeZ2SlAKYKLGU2BAeFx60KCRlnlaMYYbZkaB8cAJ4V/x82JcLbjVhl330TQC9XUzMqFF7b+A3QO97fX432As/w9ug9D/Cnp7ilmtpgg1eJYgqt8f4Y/QOvc/cNc36F46Aw8acGUj6UJpn08E/gCmAis9OBusxWABeHVvITwymhS9MLOPzM7GLjEzB4juLr7EDDezD5291VhCtZSM6sc5rPOiGK4UZepYXU1kGhm24AX3f3p8ALeyWZW2t1fC8trgHNWrYAJ7j41vCixMzxBGWLBTC073X1RdEMsOszsSoLZ2Pq6+2oze45gvvy7woGqbQkmLIjLGylmkmhm84EvCWYyy3LlPNsJdbGT6bg1GGgVpiP9QTDWZZ6ZfQ80IZi++ID0sWqyR6ynAsUKNRjiiJkdCvS3YDrDpQR3dzwinCHnSIIfo8ujGGKhcfenwpOar4Fj3P36sEt7OMFgzFUEV9tvhIwfnSJzNTTsoq5FMEXqlcBdwPPA2cAuM/vS3Vea2eME20RtYHVx/mHNj/Ak7SxgAEHK3lgzuypsNFwDHGNmEz2YcjeuZUpDahyOUdhNMGUqHt7I0MyOBra7u+Z4/wssuKv4yQS9mQstuNHdDDO7hWB2tjoEN7xbHM04oynsWahCkEK6DGgIHG1mqwjObaYCy+Ih5S1sJJwH9Hf33cB/zewOgvvrVAFqAIPUWJB9oQZDnDCzTgTTGrYnuLfAMIID7Bgz+4kgV/sWd58avSgLl7uPCBsN35pZJ3f/OEw76Ucwe0tr4KdwRqEicyKd6Yra1LCR2JWgS/p+IJXgh6WhBdOoNgY6eJzeaCy91yj8uzTBSW9Pgqk/0wga0SPNLM3dR1pwx+e4byxARhpSN+BGC6ZrfCv8+17gceBQYAxwQfSiLLJKA/WAiuHz9AugKe7+RXRCijk1wsbAMQBmdjzwIkHdNSe4seI90QqukDUkmKnt13BMyxZ3v8vM6hNMB73a4/ReOrL/WBE6D5K/yczaAa8TjFtoS3DjqU3ufnt4UlwK2OXus4pz960FU4fuNrMjCA6wH4WpRkOAW4BO7v5TOGisTFG/MhV2UZ9McPWtHsHdmu8maDQeQzDT01DXDD+Y2ekEM/dsJ5jd52PgHHdfY2afEfTWHO3uW6MYZkwxs6MI7lNysbtPCZfVJrhXxTKCfPv7PbjhoeSDBXcVXxkep24kSBm9xt0XWTC97xUE46o2FdfjdH6EPYHdgQUENyS7I1z+GDDe3aeYWfniuL/m9BttZi8QpBv3ybSsB/CNB9OESy4alTMfekiJaIeR4YpZu2e6e8xNm6wehvhQH/jc3b8xs2lAJ+C2sMvyv5kPKMXxR8jMGgO4+2Iz6wI8A8wHHjCzU919uJntBr43s3Zh+sSm6EX892RKETGCgZDdCVIa1pvZv4BzCO4h8Xj4gzo8HJgadzL/6JrZeQQ3XhsDnEiQqvcdUNfMuhPM9PNYcTz52Ef1gI/DbSkBKBWOjelG0DtTK0x7K7YXIfYnM7uOIO98i5m9RHDDu90E97N4m+C43Tvex86E++s5wIUE90WpHqZspRIc944BpgDbohdlwch23DqFYOKaj4GbgUfNbJi732zBeMRbCC4YqcEg+4UaDMWYmTUhuDHXdOAWM+vs7p8Cn1kwK1AdgqtVrxbXH/WwsTAJONuCAc7nA2eEvSkjCFKyBoTpJqUIriQXOdn+/+oR/EjUJjgBecfdv7Lghmy9gIQwbSQ1KsFGWbYf3UYEM6p0DHPFexPM7FMKSGHP9hKXKVuZZWqQNgXKAcuBlmbWxt1nAilmdhJQx91fNrMkKJ4XIfa38CT4NIJGwRSC2Y/GEoypmkbQABsZz2MWACyYhGIncB3BDclqAad4MGtUM4LG/gYoXttdeBEoYxydmQ0gqIN1BL/h4wnSjEeY2XiC34Cz4317kf1LDYZiysxOI5gOcjGwkeBq1ZlmVgeYDTQjmOqwA/BqcTq4pgsPsm0JrsCUIBgElwRMBma5+2AzexR4w8x6ufsj6esVtfrIdAL8b4KrSp8QzN1+hpltd/dJBDNnTAaeCgfGxZ1sjYUrCdL0KgHDzexPd3/FzLYATwI/Ag97ME1h3AsbC6cTDKDfBPxCMFVq97BhvoxgAOp16eWjFGqRYmaXA0cTXDG/mqBu3wUGA2WAN1x3EcfMriAYn7CDoDfwO3c/KXxtIMFMQHd4OOC+mCkR9qAQ9nqeBRxOcA53J8Ex/3V3P8nMyhBMCx3XPVF/lWZJypsaDMWQBTOT3E4wdWhnYCRBbvbXBDPmrCX4YaoPDDCzssCO4vYDH57gTCa4a/PpBDPfNAGOMLPl7v6Vu19nwUxBtYFF6etFLeh9YGZnENxH4nSCBuJ2gquTw8Mr5x0JrsYV6bEZ+yJTY+F04EiCBsNAgh/fo81sqrtPCH90f1JjYQ8zq04wi9oF7j7HzPoTzIq0OFy+CbjL3T+PWpBFjJmdSjDhxG0Ek1Ec7+4nh6+dTzB4Ny4b95mZ2SCCiQjO9GAK8MZACzP7B3Aqwd3DexfHxoKZ1QSeC49Z6dPp/gto7+7fhj3l1wCXmdkYd59G0KgS2a/UYCielhMMjmtNcJWqA/AUwUDfIcBPBANehwO93H17VKIsHJsIBvu2JMj3fBW4DOga5r1+5u5XRzPA/agyQS7+6QSD2LsDmNnPBCkkt3oRuTt1QbJg5pAngE/cfYGZ3U6Q79sTKGVmX7h7XN3IMJ9SCWbtqRk+H0fQEwPBhYly7r61KPbQRUO4Hf4f8IW7L7VgKtVaZnYbMJegAfFIvF8pDi9onUzQqEoJe2R2Efy+3UvQC9Pb3edELcgCFE68cB7BTem+92D2owOAoWZ2h7v/bGZPEDSafo9qsEVYgroY8qQ7PRdD7r7c3b8nuArxsrsvBF4CqgPJBLnZrQmu1hTru/p6cKO1kwlmG3mQIN/zSYLGcjczqxbN+PazxQQpIRe7e1cAC2aAOhWYosZCwIMbXQ0GTjGz8919B0GazS6CKWgPiGJ4MSs8cX0b+KeZtQwHzL9LkEdeMn1QuBoL+ZNpOzzZzM7z4A7s1wFtCHqAh7r7siiGGBPCC1ofEkwL/TxwEEFq6avs6Vkolo2FdO6+DSgPzDazysCtBJMx3GFmR4VjrO6N595jKXjqYSjefgEGmVlJggF1g939dwAze8SL0I3I9pW7LzGzcwimfCxFcFOuisUsN3gm8B7BHT2PJ0gXuQDo57phTxbuPt7MUoD7zQx3f9WCaSyrhj/OkrPXCXroHjOz6QQpXVd6nM62ta/C7XAnMMzMUt39LYJxR1XcfUOUw4slLxL0FC9093VmdgFBj6Cl5/YXd+7+rpntAH4gSEu6n+A+E9eZ2UUEg8FFCowaDMXbhwSDxHoAD7n7dCh6dy3eX9z9f+F0c28BH7r7/GjHtD+5+xYze5jg//sGgrEq/V33WciRu39gZmnAM+HJ2pvAmmjHFcvC/PGHgESC+yxcEOZMy9/k7hMtmNb5mfDY/KYaC1mFvYDfm1mCmV1M0DNzfrw17t19kgV3nJ8BJLr7rWZWvTiO3ShMhgY954du3BYHwlz9VOUWB8ysYtj9X2yFU8SiK795M7POBFcu/4h2LBK/tB3mzczKEUwNPcPd50U7nmgJJ7i4DWir3/R917ic+S2Hxs6N2y79n27cJtGzG5RbnMmWaAdQ0NRQyD8P7k0iElXaDvPm7tvCmYDi+rcsTE+aHO/1IIVLDYY4oINKVqoPEZGiScfvgLsX+wtfhcbAlJOUJ82SJCIiIiIiEanBICIiIiIiESklSURERETiljKS8qYehjhlZpdGO4ZYpvrJm+ood6qfvKmOcqf6yZvqKG+qI9kf1GCIXzqA5E71kzfVUe5UP3lTHeVO9ZM31VHeVEeyz5SSJCIiIiJxK0E5SXnSjdsKQbkS5lVKRTuKrLbthnIxcp+SegcfEu0Q9rJm3QZqVqsS7TD2SI29G3mu2bCZmlUqRjuMPcpUjnYEWaxJXkvNGtWjHcYeO2NvFsY16zZRs1qlaIexh6dFO4Is1qzfTM2qMbSPAZQ4INoRZBFzx+otydGOYC9rNu+gZsUy0Q4jw8xFa5PdvWa040jXuLz5Hc1j5IQIuGimbtwWt6qUgksbq6ojuf39Z6MdQuxbvyjaEcS8hINPiXYIMS1tydRohxD7UndEO4LYV7lhtCOIbVOfiXYEMa/EBS8uiXYM8tfpLFZERERE4pKhWZLyQ4OeRUREREQkIvUwiIiIiEjcMnUx5Ek9DCIiIiIiEpEaDCIiIiIiEpFSkkREREQkbikjKW/qYRARERERkYjUYBARERERkYiUkiQiIiIicUuzJOVNPQwiIiIiIhKRGgwiIiIiIhKRUpJEREREJC4ZunqeH6ojERERERGJSA0GERERERGJSClJIiIiIhK3NEtS3tTDICIiIiIiEanBICIiIiIiESklSURERETiljKS8qYeBhERERERiUg9DCIiIiISl8wgQV0MeVIPg4iIiIiIRKQGg4iIiIiIRKSUJBERERGJW8pIypt6GEREREREJCI1GEREREREJCKlJImIiIhI3NIsSXlTD4OIiIiIiESkBoOIiIiIiESklCQRERERiUuGrp7nh+qomFmyzXl1+W6GL0zlrt9SmbUxLc91VqU4Y5amct/8VIYvTOWr5DTcvRCijR53567HnqdB+zMpf8hJdOp1NXPmL8p1nZWrk7ng6rtp0elCSh10PAOuG1ZI0UbHU298RpPu11GuwyW06307U378LdfyvyxYxgkXD6P80ZfQsMs13PP0u8V6O3J37rzvIeo1aUnZ6g05vtvpzJn7a67rfDXlG47pdArVGx5M2eoNOfTIRB4Z8WQhRVz43J27/vsaDf51EeWP7EWnfrcyZ8HSPNf76vvZtDv7Osq1PpemXS5j1GuTCiHawvfUa5/QpNvVlGvbl3a9bmbKzNy3n1/mL+WEAXdRvl1fGp50BfeMertY72OQfqx+jgbtTqf8wZ3o1OvfzJn/R67rrFyVzAVX3UmLTr0pdeA/GXDdfYUUbeF76tNfaTJ4POX6v0y7WyYy5ddVEct+OTeJMx79nPpXvkmFAeNoPXQCz3+5oBCjlaJMDYZiZmeaU6s0dKuVQMl8DOJJ2e28tGw35UsaAxuVoFutBKatS2P6+uL9I/TwqFcYPvp1Rt51Dd9OeIaaNarS9cIhbN6yLeI6KSm7qFGtMjdefgEdWjcvxGgL3+sff8vgh8cx9OLTmPnq3SQe0Yzu/36UpSvX5lh+05btdL38YWpVr8S3L9/JiBsv5JEXP+Kxl4rniR7AQ8Of4NHH/48nHr2f77/+hFo1a9D5tLPZvHlLxHUqVKjA1ZcP5OuPJzB35lRuvXEId9z3EP/3zPOFGHnhefi5dxg+5j1G3jKQb994iJrVKtP1kjvZvHV7xHUWLV/FqZfdS2LrQ5n59qPcNPAsrhk2mrc/mV6IkRe81ydNZ/BDLzL0ktOZ+cb9JLZuRvcrHmDpyuQcy2/aso2ug4ZRq3plvn3lPkbc1I9HxkzksRc/KOTIC9fDo8Yx/NnXGHnXtXz7/mhqVq9K1wuuzf1YvXMXNapV4cbLL6RD6xaFGG3hen36Iga/9D1De7Rk5n2nknhwTbo/9BlLk3M+Bk1fsIbDG1bljav/xc8P9mDQSYdw2XMzeOWb3BtgIqAGQ7HTrEICJ9YsQYuKCfm6EcnPm5xdDmfUSaBWaaNFxQQ6Vk9gxvri28vg7ox8/k1uuvwCep58PC0POYgxj97M5q3beOW9TyOu17hhXUbeeQ39zzmZqlUqFWLEhW/Ey5Pod9qxDDzreJofVI/Hh/ahbo0qjHrzsxzLj/twGtt2pDDm7ktp2bQBPU9qx439T+GxlycVy+3I3Rnx5NMMve5qep5xGi0Pa87YZ/7L5i1beOWNtyOu1+bIVpx3zpkc1uJQDmzciAvPP4euJ53AlG9mFGL0hcPdGfniRG665Cx6dkmkZbNGjLn/ajZv3c4rE7+OuN7Tr39MvZrVePzWgTRv0pCB53Sh7+knMPyFdwsv+EIw4sUP6Nfjnww8+0SaH1Sfx/8zgLo1qzLqjZyPQeM++IZtO3Yy5t4raNmsIT07d+DGi07jsZc+LJb7GITb0HNvctPlF9LzlPBYPfzW8Fj9ScT1Gjesy8i7BtP/nFOK9bF6xEfz6HdcEwZ2Opjm9avweL8O1K1SllGT5+dY/j+nH8495x5Jx0NqcVCtilx+0iGc2e4fjP8+716/4s4sdh6xSg2GOLd8h9OorFEq05xiTcoZm1Nhw64oBlaAFi1bSdKadXQ+rl3GsrJlSnNc+1ZMnzk7ipHFhp27Upk5bzGdE1tmWd45sSXTf/o9x3Vm/Pw7xx55CGXLHJCxrMsxh7NizQYWr8j5imlRtmjxEpJWrabLiSdkLCtbtiz/7JjItBnf5ft9/jfrZ6bN+I5/HXdMQYQZVYuWryIpeT2dO7bOWFa2TGmOa3sY02dFTr2ZMes3OndslWVZl46t+WHOQnbtSi2ocAtVsI8tovMxR2RZ3jnxcKbPyvlkb8ZPCzj2qOz7WCtWrF7P4j/XFGi80bJo2QqS1qyl8z/bZywLjtWt4/5YvTN1NzMXraXzEfWyLO98eD2mL8j/9rBp+y6qlj8g74IS99RgAMzsXTObaWZzzOzScNnFZjbfzL40s2fN7L/h8ppm9raZfR8+OkY3+n2zJRXKl8i6rEI4FH7L7sKPpzAkrQnSamrXqJZlee0a1Uhasy4aIcWU5PWb2b07jdrVsl6Zq12tEklrN+a4TtLajdSunr185eC15JzXKcqSVq0GoHatmlmW165VM+O13DRodgSlq9an7XGdueLSi7jskv4FEWZUJSVvAKB29SpZlteuXjnjtZzXW7/3OjWqkJq6m+QNm/ZvkFGSvH5TuI9VzrI8qJtI+9gGalffu3z6a8VR0urgeFy7RtUsy2vXqBr3x+rkzSnsTnNqVyqbZXntymVI2hg55S+ziT8u5/M5KxnY6eCCCFGKGTUYAhe5exugLXC1mdUHbgOOBjoDh2YqOxJ4zN3bAT2B0Tm9oZldamY/mNkP22L9xDtbF5jnvLjIGvfuJ1Rq0TXjsWtX8B+SvevP3bFY7g8sZNnrwsm9fizbFpOeJlEcqnTca29RoVajjMeuXUH32151lM9taMqn7/PDlE8Z9fgjjHjyaV565Y0CibswjXv/Kyq1OT/jsSs16A3Yu472XpZdTvUKe29jRd1f3X6Ke72Me+cTKjXvnPGIuA1RPI4r+8Pev2P5++3+5rfVXPjkFEb0bU/7JjUKJLaiJCGGHrFK06oGrjazM8O/GwJ9gK/cfR2Amb0JpDfBTwJaZDqAVTKziu6+OfMbuvszwDMA9cpYzCaYVigJW7P18qc/z97zUFT1OOnYLAPfUnYGJ3tJa9bRsF7tjOWr167f60pWPKpRtSIlSiTs1Zuwet3mvXod0tWpXnnv8uuDq8HZr4oWRT26d6NDu6Mynqek7ASCnoaGDepnLF+9JnmvXoecHNi4EQCHt2zBqtWruXPYw/Tpfe5+jrpw9ejUng5H7LlSmbGfJa+nYd09JySr123MdZuoU6MqScnrsyxbvXYjJUuWoHqVivs56uioUbVSuI9tyLJ89bpNe/XUpatTvcpePTOr1xWffQygR+dj6XBk5mN1uJ9lP1Ynr9+rhzje1KhYmhIJtldvwupNO6hduWyEtQJTf1vFqQ99zl1nt+Lykw4pyDClGInlxkyhMLPjCRoBie7eCvgfkNv8kQlh2dbho372xkJR0qCMsWS7k5q2p03zxzanYkmoUiqKge1HFSuUo2njBhmPFs0aU6dmNSZP/SGjzI4dKUz9/mcS27TM5Z3iwwGlStKmeWMmz8iaIzx5xmwSWzXNcZ2jj2jK1P/9xo7wRDooP4d6NavQuF7Rv3pVsWIFmjY5KOPRovkh1Kldi08//zKjzI4dO5gybQbHHN0+8hvlIC3NSUlJ2c8RF76K5cvStFHdjEeLpg2pU6Mqk6f9lFFmR8pOps6cS2LrQyO+z9GtD+Gz6T9nWTZ5+k+0PawJpUoVj2tcwT52IJOn/5Jl+eQZv5DYOuf0kKNbNWPqj9n2sem/UK9WVRrXz7uRWhTsfaw+kDo1qzN5yvcZZYJj9U9xf6w+oGQJ2hxYncm/rMyyfPLsFSQ2i7w9fD1vFd0f+ozbzzqCa04uvjNI/VXRHuj8Vwc9m1k3M/vNzH43s6E5vF7ZzN43s5/CdPsB+1pHcd9gACoD6919m5kdSpCGVA74l5lVNbOSBKlH6T4B/p3+xMxaF2awedmZ5iTtCB4ObNwFSTucjbuCBsHkNbt5cdmeHKnDKxmlDN5NSmN1ijNvcxpT16VxdNWEYpueY2Zcc9E5PPjUOMZP+orZv/3BgOvvp0K5svQ+vXNGuX5D7qPfkKzzd8+as4BZcxawectW1m3cxKw5C5i7YHEhf4OCN/jCboydMJXR479k3h8rGPzQy6xYs4FBZ3cC4ObH36DzoAczyvc+OZFyZUoz4PbRzP59OeM/+4EHX5jItRd2K5bbkZkx+MpBPPDo44x/byKz58yj/6CrqFC+PL3P3XO46HvJlfS95MqM50889SwTP/qEBb8vZMHvC3lu7Ms8MvJJLjzv7Gh8jQJlZlzT91QeHD2e8Z9OZ/aCJQy4+QkqlCtD71P/mVGu39CR9Bs6MuP5oF5dWb5qLdfe/xzzFi5j9FufMvadLxgy4IwofIuCM7hvd8a+9xWj3/6ceX/8yeAHxrJi9XoGnXMSADePfJXOl9ybUb73KR0pV+YABtw2itkLljF+8nc8+PwEru1zSrHcxyDchi4+hwefepnxH6Ufq4eFx+ouGeX6XXsP/a69J8u6WY7VG8JjdR732ilqBp/cnLFfL2T0FwuY9+cGBr/4HSvWb2fQiUGj8+bXfqTzsD2zSX05N4nuD3/GoBMPpnfHg0jasJ2kDdtZs2lHtL6C/A1mVgJ4EjgZaAGcb2bZW39XAnPDC+HHA4+a2T6Nbi8el2v2zSTgMjP7maBnYQbwJzAM+BZYAcwF0vMtrgaeDMuXBL4GLivsoCNZscMZu2zPzdq+XJvGl2uhVSXjjLol2JIK63bu6U0oU8Lo07AEH67azTNLdlM2ARKrJpBYtXj+AKW74bLebN+RwlW3Pcb6jVvo0Lo5k156lIoVymWUWfbn3jfAadP94izPJ06eRqP6dfjjm6Kfg55Zr64dWLdxC8NGv8/K5A20bFqfiU8MoVHYW7AyeSMLl+0Z3Fu5Yjk+fuoGrrr/RdpfcCdVK5VjSJ9uXNunW7S+QoG7cchVbN+xgyuvvYn1GzbSod1RfDLhTSpWrJBRZuny5VnW2b17NzfddjeLlyyjZMkSNDmwMQ/cfVuxHPQMcMPFZ7J9x06uuudZ1m/aQocjmjFp9B1ULL8nZWLZyqwzuhzYoDYTR93KdQ+8wKjXJlGvVjVG3HwxPbskFnb4BapXt0TWbdjMsGffYeWaDbRs2pCJT95Eo3rB1eGVazawcPmeY1DliuX4+OmbuWrYC7Q//xaqVirPkL6ncG3f7tH6CoXihssuCI/Vw1m/aTMdWrdg0suPZT1Wr8jhWH1K1guqEyd/Q6MGdfjjm7cKPObC0ivxQNZtSWHYuz+zcsN2WjaowsQbTqRRzeAYtHLDdhau2pMAMfbrhWxLSeXRD+by6AdzM5Y3qlGeP0b23Ov9JWa1B3539z8AzOw14HSCc9V0DlS04GpCBWAdsE/TzFlxnb95X5lZBXffEvYwvAM87+7v/J33qlfG/NLGaptFcvvHn0c7hNi3vnhdGSsICQefEu0QYlrakqnRDiH2pepKa54qN4x2BLFt6jPRjiDmlbjgxZnu3jbacaRrVsH8sdaxk3Bz2jdpS4DM85E/E46LBcDMzga6ufsl4fM+QAd3z5z9UhGYQDBpT0Wgl7vv010edRYb2Z1mdhJQhiAN6d3ohiMiIiIixVxyHg2qnFJAsl/97wrMAjoBTYBPzWyKu//tuanVYIjA3a+PdgwiIiIiIpksJ5jRM10DgvT5zAYAD3iQRvS7mS0i6G3I/51Fs4mdPhgRERERkUIW7Xsv/MX7MHwPNDOzA8OBzOcRpB9lthQ4EcDMagOHAH/kszpypB4GEREREZEiwN1TzezfwMdACYIxtnPM7LLw9VHAPcAYM/uFIIXpJndPjvim+aAGg4iIiIhIEeHuHwIfZls2KtPfK4Au2dfbF2owiIiIiEh8+gs3TItnGsMgIiIiIiIRqcEgIiIiIiIRKSVJREREROKSoavn+aE6EhERERGRiNRgEBERERGRiJSSJCIiIiJxS7Mk5U09DCIiIiIiEpF6GEREREQkbunqed5URyIiIiIiEpEaDCIiIiIiEpFSkkREREQkLhmQoEHPeVIPg4iIiIiIRKQGg4iIiIiIRKSUJBERERGJW7oPQ97UwyAiIiIiIhGpwSAiIiIiIhEpJUlERERE4paunudNdSQiIiIiIhGpwSAiIiIiIhEpJUlERERE4pKhWZLyQz0MIiIiIiISkRoMIiIiIiISkVKSRERERCRu6ep53tRgKAT1Dj6E299/NtphxKy7u3aKdggx7/YPPox2CDEv7fdPoh1CbCtVNtoRxL7SFaMdQezbsSHaEcS2o86KdgRFwIvRDkD+BjUYRERERCQ+GSRo0HOe1AsjIiIiIiIRqcEgIiIiIiIRKSVJREREROKShQ/JnXoYREREREQkIjUYREREREQkIqUkiYiIiEjc0ixJeVMPg4iIiIiIRKQGg4iIiIiIRKSUJBERERGJW8pIypt6GEREREREJCI1GEREREREJCKlJImIiIhIXDI0S1J+qIdBREREREQiUoNBREREREQiUkqSiIiIiMStBPNohxDz1MMgIiIiIiIRqYdBREREROKWxjznTT0MIiIiIiISkRoMIiIiIiISkVKSRERERCQu6T4M+aMeBhERERERiUgNBhERERERiUgpSSIiIiISt5SRlDf1MIiIiIiISERqMIiIiIiISERKSRIRERGR+GSaJSk/1MMgIiIiIiIRqcEgIiIiIiIRKSVJREREROKSoavn+aE6EhERERGRiNRgKKbcnbsee54G7c+k/CEn0anX1cyZvyjXdVauTuaCq++mRacLKXXQ8Qy4blghRVu4lmxzXl2+m+ELU7nrt1RmbUzLc51VKc6YpancNz+V4QtT+So5DXcvhGijx925a+SLNDjmPMofdiqdel/PnPmL81zvq29/pt3pV1CuRXeantCXUa9MLPhgo+Cp1z+lycmDKdeuP+3Ou4UpP/6aa/lfFizlhIvuoXz7/jQ86d/cM2p8sd+Gnnr1I5p0voxyrXvR7uzrmfLD3FzL/zJ/CSf0vZXyR55Hw+Mv4Z7/e6NY15G7c9cT42hwbF/KH3EWnfoMZc6CJXmu99V3v9DurGsod/iZND3xYka9+mEhRBsdqqO8uTt3/fdVGvxzAOVbn0unvrcwZ8HSPNf76rvZtOs5hHKtzqFp50GMem1SIUQrRZUaDMXUw6NeYfjo1xl51zV8O+EZataoStcLh7B5y7aI66Sk7KJGtcrcePkFdGjdvBCjLVw705xapaFbrQRK5mNmhJTdzkvLdlO+pDGwUQm61Upg2ro0pq8vvicyAA8/8wbDn3+bkbdfybfvPEHN6lXo2n9ortvQomUrOfWSW0g86jBmTniKmwadxzV3P8nbk6YUYuQF7/VJ0xn80EsMvaQHM1+/j8RWB9P9iodYujI5x/Kbtmyj66AHqFW9Mt+Ou4cRQ/vyyNgPeOzF4nsS8/pHUxl8//MMvbQnM99+lMTWh9B90L0sXbEmx/Kbtmyj68V3Uat6Fb5940FG3Hwxjzz/Lo+NmVDIkReeh599m+HPv8vI2wbx7VvDqVmtCl0H3JbHPpbEqZfeSeKRzZn57uPcNOgcrrn3ad7++JtCjLzwqI7y9vDodxj+wnuMvHUg377xMDWrV6brxXeweev2iOssWr6KUy+7h8QjD2Xm+OHcNLAn19z3LG9/Mq0QI48dZrHziFXFrsFgZleb2TwzG5dLmS374XP6m1m9fX2fguDujHz+TW66/AJ6nnw8LQ85iDGP3szmrdt45b1PI67XuGFdRt55Df3POZmqVSoVYsSFq1mFBE6sWYIWFRPydXfHnzc5uxzOqJNArdJGi4oJdKyewIz1xbeXwd0ZOeYdbhrUi57djqPlwQcy5uEb2Lx1O6+8/3nE9Z5+9QPq1arO43dcSfOm/2DgeafQ98zODB/9ViFGX/BGvPQR/Xocx8CenWh+UH0e/08/6taswqg3JudYftyH09i2I4Ux91xGy2YN6XlSe24ccCqPvfRRsd2GRox5n35nnMDAczrTvEkDHr91IHVrVmXUax/nWH7cxK+DOrr/Klo2a0TPLonceMmZPDb2/WJZR+7OyBff46ZLz6Zn1460PLgxYx68NtjHJn4Vcb2nX/uIerWq8fhtl9G8SUMGntuNvmecyPDnxxdi9IVDdZS3oI7e56aBPenZ5RhaHtyIMfdfE9bR1xHXe/q1SdSrWY3Hb700rKMu9D39BIY//14hRi9FSbFrMABXAKe4+wUF/Dn9gZhsMCxatpKkNevofFy7jGVly5TmuPatmD5zdhQjK5qW73AalTVKZZqouUk5Y3MqbNgVxcAK0KJlScE2dGybjGVly5TmuHaHM/3HyGklM/43N8s6AF2Oa8sPs+eza1dqgcVbmHbuSmXmvEV0Tjwiy/LOiYcz/acFOa4z46cFHHvUoZQtc0DGsi7HHMGKNetZ/GfOV9yLsp07dzFz7kI6H9M6y/LOHVsxfVbOqVszZv3GsW2aU7ZM6YxlXTq2ZsXqdSz+c3VBhhsVi5avImnNejp3PDJjWbCPHcb0/82LuN6MWb/SueNRWZZ1OfYofpj9e7HZx9KpjvK2aPkqkpLX07lj64xlZcuU5ri2hzH9f5HTJGfM+i3LOgBdjj2SH+YUvzrKjwSLnUesKlYNBjMbBRwETDCzjWb2vJl9aWZ/mNnVOZT/PzPrEf79jpk9H/59sZndG/59m5n9amafmtmrZna9mZ0NtAXGmdksMytbeN8yb0lr1gJQu0a1LMtr16hG0pp10QipSNuSCuVLZF1WIZxfbMvuwo+nMCQlB9tJ7RpVsyyvXaMqSWvWR15vzfoc1qlCaupuktdv3P+BRkHy+s3s3p1G7epZe+FqV6tMUnLO3zEpeQO1q1XOWr568DxpbfGol8ySN4R1VCP7d65CUvKGHNdJSt5A7epV9iqf/lpxk74f1a5RJcvyoI5y2ceS1+9dTxn72Kb9HWZUqY7ylr5v5PR9c6+jnPe34lhHsn8UqwaDu18GrABOAB4DDgW6Au2BO8ysVLZVvgaOC/+uD7QI/z4WmGJmbYGewJHAWQSNBNz9LeAH4AJ3b+3ukRMFC8G4dz+hUouuGY9du4Kz2Oy5cO6OxXKCXCzLXpc5Ly6yxr33GZWO6JHxyNiGspXLzza093aXvry41FYg+/dxPNf805z2x5yWFyeWbQvKa/vZq06LUR2Nm/AFlY48O+OxKzW4irv3drR3vWUXeVsq2hWlOsrbuPe/olKb8zIe6b0Bf+f3vrjWkRSM4n4fhg/cPQVIMbPVQG1geabXpwCDzawFMBeoamZ1gUTgauBi4L30BoGZvZ/fDzazS4FLAf5Rv/b++C4R9TjpWDq0bpHxPGVnkCeTtGYdDevt+ezVa/e++it5q1AStmbroU1/nr3noajqcWIiHVodmvE8YxtKXk/DerUylq9eu2Gvq32Z1am5dw/E6rUbKFmyBNWLybiYGlUrUqJEwl69CavXbcroNciuTo0qe/UkrF4XXMXL3vNQHNSokl5HG7IsX71uY+51lO2K6Op1QZ1lvxJaFPXo1IEOrQ7JeL7nOL2ehnVrZizPcx+rUXXvel27MdzHKu7XmAub6ihvPTq1p8MRB2c833Os3pCtjjbmut8E+9uGLMtWrysedfR3qImUt2LVw5CDlEx/7yZbA8nd/wSqAt0IehumAOcCW9x9M/uwDbn7M+7e1t3b1qxW5e++Tb5UrFCOpo0bZDxaNGtMnZrVmDz1h4wyO3akMPX7n0ls07JAYymOGpQxlmx3UtP2DLz8Y5tTsSRUyd5nVUQF21D9jEeLZo3CbejHjDI7UnYy9fvZJB7VIuL7HH1kCz6b9r8syyZ/M5O2LQ+mVKnicX3igFIladP8QCbP+CXL8snTZ5PYqlmO6xzdqhlTf/yVHSk795SfMZt6NavSuH7NHNcpyg44oBRtWjRh8vSfsiyfPO0nElsfmuM6R7c+hKkz52Wto2k/Ua9WNRrXr5XjOkVJxQrlaNqoXsajRdN/UKdmVSZPm5VRZkfKTqb+MIfEIyPPUnd060P5LNM6AJOn/Y+2LZsW+X1MdZS3iuXL0rRR3YxHi6YNqVMjhzqaOZfEI3Pe1yDY3z7ba/+cRdvDin4dScEo7g2G/JgODGZPg+H68F+AqcBpZlbGzCoA3TOttxmIyWa4mXHNRefw4FPjGD/pK2b/9gcDrr+fCuXK0vv0zhnl+g25j35D7suy7qw5C5g1ZwGbt2xl3cZNzJqzgLkLFhfyNyhYO9OcpB3Bw4GNuyBph7NxV9AgmLxmNy8u2zM44fBKRimDd5PSWJ3izNucxtR1aRxdNaHYdt2aGdf0P5MHn36d8R9PZfb8RQy48WEqlC9D79M6ZZTrd/1D9Lv+oYzng87vzvKkNVx771PM+30po1//iLHjP2XIJWdH42sUmMF9Tmbse18zevwXzPvjTwY/+CIr1qxn0DknAnDzyNfoPHDPfUx6n3wM5cqUZsBtTzN7wTLGT/6eB5+fwLV9Ti6229Dg/qcx9p0vGP3Wp8xbuJzBw55jxer1DOrVBYCbh79M5wF3ZJTv3f24oI5ufoLZC5Yw/tMZPDj6Ha7td1qxrCMz45q+p/PgM28y/pNpzJ6/mAFDHwuO06f+K6Ncvxsfpd+Nj2Y8H3TeySxflcy19z3DvIXLGP3mx4x95zOGXHRWNL5GgVId5S2oo9N48NnxjP9kOrPnL2HAfx6nQrky9D71nxnl+t00gn43jch4Pui8bixftZZrh40O6+hTxr77BUMuOj0K30KKAjUjg8ZBF3f/3cyWANXCZbj792Y2AfgJWEIwbiE9r2AMMMrMtgOJ0R7HkN0Nl/Vm+44UrrrtMdZv3EKH1s2Z9NKjVKxQLqPMsj9X7bVem+4XZ3k+cfI0GtWvwx/fvFHgMReWFTucscv23Kzty7VpfLkWWlUyzqhbgi2psG7nnt6EMiWMPg1L8OGq3TyzZDdlEyCxagKJVYvfSUxmN1x6brAN3flf1m/cTIdWhzJpzP1Zt6EVWWevObBhXSaOvo/r7hvFqHETqVe7GiNuu4Ke3Y7L/vZFWq9uiazbuIVhz77LyjUbaNm0AROfvIFG9YLegpXJG1i4fM/+VbliOT5+eihXDRtD+963UbVSeYb0PYVr+54Sra9Q4HqdfCzrNmxm2Ki3WLlmPS2b/YOJT99Co7C3YGXyehYuS8ooX7lieT5+7g6uuudZ2p9zY1BH/Xtwbf8e0foKBe6GgT3ZnpLCVXc/FRynWx3CpOfvzrqPrcw6i9aBDesw8Zk7ue7+0Yx69UPq1arOiFsupWfXjoUdfqFQHeXthkvODOronmdYv2kLHY44mEmj76Ri+T3zsexVRw1qM3HUbVz3wPOMem0S9WpVY8TNl9CzyzGFHX7UGbE2biM2p5G24ji/9f5kZhXcfYuZlSPohbjU3X/Ma73M2h5xqH/3/rMFE2AxcHfXTnkXinO3f1B8b/C132wtftOT7lelYmoyt9hU4oC8y4jkJi3+piT9q0o0P2Omu7eNdhzpDq9sPr5j7CTcHPxRWkzVTzr1MOTtmXBQdBlg7F9tLIiIiIiIFGVqMOTB3XtHOwYRERERKRgxlZEUo2KnD0ZERERERGKOGgwiIiIiIhKRUpJEREREJD4F0yRFO4qYpx4GERERERGJSA0GERERERGJSClJIiIiIhK3lJGUN/UwiIiIiIhIROphEBEREZG4ZepiyJN6GEREREREJCI1GEREREREJCKlJImIiIhInDKlJOWDehhERERERCQiNRhERERERCQipSSJiIiISHwydPk8H1RFIiIiIiISkRoMIiIiIiISkVKSRERERCQuGbpxW36oh0FERERERCJSg0FERERERCJSSpKIiIiIxC1lJOVNPQwiIiIiIhKRGgwiIiIiIhKRUpJEREREJG5plqS8qYdBREREREQiUg+DiIiIiMQnCx+SK/UwiIiIiIhIRGowiIiIiIhIREpJEhEREZG4pUHPeVODoTCkpsD6RdGOImbd/sGH0Q4h5t3d/ZRohxDzbp80OdohxLaVP0c7gthXvnq0I4h9pcpFO4LYNvnJaEcgUiCUkiQiIiIiIhGph0FERERE4pYykvKmHgYREREREYlIDQYREREREYlIKUkiIiIiEpcMzZKUH+phEBERERGRiNRgEBEREREpIsysm5n9Zma/m9nQCGWON7NZZjbHzL7a189USpKIiIiIxCkrUtMkmVkJ4EmgM7Ac+N7MJrj73ExlqgD/B3Rz96VmVmtfP1c9DCIiIiIiRUN74Hd3/8PddwKvAadnK9MbGO/uSwHcffW+fqgaDCIiIiIiRUN9YFmm58vDZZkdDFQ1sy/NbKaZ9d3XD1VKkoiIiIjEp9jLSKphZj9kev6Muz+T6XlO0Xq25yWBNsCJQFlgupnNcPf5fzcoNRhERERERGJDsru3zeX15UDDTM8bACtyKJPs7luBrWb2NdAK+NsNBqUkiYiIiEjcMrOYeeTD90AzMzvQzA4AzgMmZCvzHnCcmZU0s3JAB2DevtSRehhERERERIoAd081s38DHwMlgOfdfY6ZXRa+Psrd55nZJOBnIA0Y7e6z9+Vz1WAQERERESki3P1D4MNsy0Zle/4w8PD++kw1GEREREQkbsXYoOeYpDEMIiIiIiISkRoMIiIiIiISkVKSRERERCR+KScpT+phEBERERGRiNRgEBERERGRiJSSJCIiIiJxSxlJeVMPg4iIiIiIRKQGg4iIiIiIRKSUJBERERGJS2ZgyknKk3oYREREREQkIjUYREREREQkIqUkiYiIiEjcUkpS3tTDICIiIiIiEamHQURERETiljoY8qYeBhERERERiUgNhmLoqTc+o0n36yjX4RLa9b6dKT/+lmv5XxYs44SLh1H+6Eto2OUa7nn6Xdy9kKKNDnfnrpEv0uCY8yh/2Kl06n09c+YvznO9r779mXanX0G5Ft1pekJfRr0yseCDLWRLtjmvLt/N8IWp3PVbKrM2puW5zqoUZ8zSVO6bn8rwhal8lZwWH9vQiBdo0KEn5Q/tQqfzrmHO/EW5rrNy9VouuOYeWpzYh1JNOjHg+vsLKdroeOrtKTTpeSfljh9CuwEPMWXWwohld6TsYsC9L9O6zwOUPm4wna58vBAjjY6nXv+UJicPply7/rQ77xam/PhrruV/WbCUEy66h/Lt+9PwpH9zz6jx8bGf/fc1GvzrIsof2YtO/W5lzoKlea731fezaXf2dZRrfS5Nu1zGqNcmFUK0he+pKctocudUyg35nHYPfcuUhesjlp27cgsnPj6Turd8Tbkhn9P0rm+45f3f2Zma9zFeRA2GYub1j79l8MPjGHrxacx89W4Sj2hG938/ytKVa3Msv2nLdrpe/jC1qlfi25fvZMSNF/LIix/x2EvF8+Ca7uFn3mD4828z8vYr+fadJ6hZvQpd+w9l85ZtEddZtGwlp15yC4lHHcbMCU9x06DzuObuJ3l70pRCjLzg7UxzapWGbrUSKJmPbtqU3c5Ly3ZTvqQxsFEJutVKYNq6NKavL94nMg8//SrDR7/ByDuv5tv3RlGzelW69rk+120oZedOalStzI2X96ZD6+aFGG3he33yjwwe8TZD+3Zh5pgbSTz8ILpf9xRLk9blWH53WhplDijFFT2P45RjDivkaAvf65OmM/ihlxh6SQ9mvn4fia0OpvsVD7F0ZXKO5Tdt2UbXQQ9Qq3plvh13DyOG9uWRsR/w2IsfFnLkhevh595h+Jj3GHnLQL594yFqVqtM10vuZPPW7RHXWbR8Fadedi+JrQ9l5tuPctPAs7hm2Gje/mR6IUZe8F7/MYnBb89naJcDmXljBxIPqkz3p2axdN2OHMsfUDKBPh3qMumKI5l3ayLDzzqY52es4LYPIjfk44Ol34whNh4xar80GMysv5n9d3+8V6b3PMPMWmR6freZnbQ/P6M4GvHyJPqddiwDzzqe5gfV4/Ghfahbowqj3vwsx/LjPpzGth0pjLn7Ulo2bUDPk9pxY/9TeOzlScX2ypW7M3LMO9w0qBc9ux1Hy4MPZMzDN7B563Zeef/ziOs9/eoH1KtVncfvuJLmTf/BwPNOoe+ZnRk++q1CjL7gNauQwIk1S9CiYgL5OXT9vMnZ5XBGnQRqlTZaVEygY/UEZqwvvr0M7s7I59/ipst60/Pkf9HykIMY8+h/2Lx1G69MmBxxvcYN6jLyzqvpf/bJVK1SsRAjLnwjXvuCfqd0YODpx9C8cR0eH3I2datXZtQ7U3MsX75saZ66sReXntGRBrWqFG6wUTDipY/o1+M4BvbsRPOD6vP4f/pRt2YVRr2R8/aTcay+5zJaNmtIz5Pac+OAU3nspY+K93724kRuuuQsenZJpGWzRoy5/+rgWD3x64jrPf36x9SrWY3Hbx1I8yYNGXhOF/qefgLDX3i38IIvBCO+WEq/DnUZeEx9mtcpz+NnH0rdygcwauryHMs3rVmO/h3q0ap+RRpVK0uPw2vSu00dpi7cULiBS5EUyz0MZwAZDQZ3v93dI/8SCzt3pTJz3mI6J7bMsrxzYkum//R7juvM+Pl3jj3yEMqWOSBjWZdjDmfFmg0sXpHzla6ibtGyJJLWrKPzsW0ylpUtU5rj2h3O9B/nRlxvxv/mZlkHoMtxbflh9nx27UotsHhj3fIdTqOyRqmEPc2LJuWMzamwYVcUAytAi5atDLah49plLCtbpjTHtW/F9JlzohhZbNi5K5WZvy2jc4dDsyzv3P4Qpv+Se9pWPAiO1YvonHhEluWdEw9n+k8Lclxnxk8LOPaoQ7Mdq49gxZr1LP5zTYHGGy2Llq8iKXk9nTu2zlhWtkxpjmt7GNNnRU7fmjHrNzp3bJVlWZeOrflhzsJic6zemZrGzGWb6Xxo9SzLOx9SnemLNuTrPX5fs42P563ln02r7P8ApdjJV4PBzC40s+/MbJaZPW1mJcxsgJnNN7OvgI6Zyo4xs7MzPd+S6e8bzewXM/vJzB4Ilw00s+/DZW+bWTkzOwboATwcfmaTzO9rZiea2f/C93rezEqHyxeb2V1m9mP4WtZfq6DM8Wb2pZm9ZWa/mtk4CyfgDdevEf7d1sy+DP++08zGmtknYZmzzOyh8DMmmVmpv1rxBSF5/WZ2706jdrVKWZbXrlaJpLUbc1wnae1GalfPXr5y8FpyzusUdUnJQUpE7RpVsyyvXaMqSWsi538mrVmfwzpVSE3dTfL64llX+bElFcqXyLqsQjj/2pbdhR9PYUhak9s2lHPKTTxJ3rA1OBZVzdqLUrtaRZLWbY5SVLEj41idw7E30nE3KXlDxrE5o3z18Fgd4fhe1CUlbwCgdvUqWZbXrl4547Wc11u/9zrpx+oNm/ZvkFGSvHUXu9Oc2hUPyLK8dsUDSNq8M9d1jx3+PeWGfM4h90yjY5Mq3Hdq04IMtUiIdhZSEchIyrvBYGbNgV5AR3dvDewGLgTuImgodCZTT0Au73MyQa9BB3dvBTwUvjTe3duFy+YBF7v7NGACcIO7t3b3hZnepwwwBujl7ocTTA17eaaPSnb3o4CngOsjhHMkMDiM+yAyNXhy0QToDpwOvAx8EX7+9nB59u97qZn9YGY/rNlQuD+Q2W9A4niuNyWxbIkn6d3bsbzh/hXj3vuMSkf0yHjs2hWcxWb/eu651xPsXSfpmQBxf9OX7PWS8+Iia9y7n1LpsG4Zj/SrlHvta+7FZr/ZH/aun+KzTewPOR+rcyuf9XmxO1a//xWV2pyf8diVGmk/y/uYm9O+CXv/3hV1e20T5L2PvTrgcH64oT0v92vJR3OSeWjy4gKKToqT/NyH4USgDfB9uAOWBY4BvnT3NQBm9jpwcB7vcxLwgrtvA3D39MtwLc3sXqAKUAH4OI/3OQRY5O7zw+djgSuBEeHz8eG/M4GzIrzHd+6+PIx9FtAYyDmxdo+P3H2Xmf0ClADSRwX/Eq6fhbs/AzwD0LbFgYWSYFqjakVKlEjY62rT6nWb9+p1SFeneuW9y68PrsCkX70q6nqcmEiHVns6m1J2BnkyScnraVivVsby1Ws3ULtGlYjvU6fm3j0Qq9duoGTJElSvknP9xoMKJWFrtl7+9OfZex6Kqh4ndcwySDljG1qzLodtqFqhxxdralQpHxyL1mW9mrt6/WZqVyveYzfyI+NYnZz9WL0p4nG3To0qORzbw2N1tWJyrO7Ung5H7DmVyHKsrlsjY/nqdRtz/X2qU6MqScnZj9Ubw2N18dj+apQvRYkEI2lT1t6E1Zt37tXrkF3DqmUAaFG3ArvTnEtfncf1JzaiZIlYzlKXaMvP1mHA2PBKf2t3PwS4kz0XEbNLTX/fMNUnfcu1COuMAf4dXq2/CyiTj3hykxL+u5vIDaKUTH9nLpcRew5xpAC4exqwy/eMMkvL5XMK1QGlStKmeWMmz5idZfnkGbNJbJVzl+PRRzRl6v9+Y0fKzkzl51CvZhUa16uR4zpFTcUK5WjauH7Go0WzRtSpWY3JU3/MKLMjZSdTv59N4lGRO8uOPrIFn037X5Zlk7+ZSduWB1OqVExsAlHRoIyxZLuTmrZn9/5jm1OxJFSJiWS9fRdsQw0yHi2aNQ63oR8yyuxISWHq9z+T2Kb4z/CTlwNKlaTNIQ2Z/F3WKZ0nf/8biYcfGKWoYkdwrD6QyTN+ybJ88vTZJLZqluM6R7dqxtQff812rJ5NvZpVaVy/ZoHGW1gqli9L00Z1Mx4tmjakTo2qTJ72U0aZHSk7mTpzLomt98o4znB060P4bPrPWZZNnv4TbQ9rUmyO1QeUTKBNw4pM/i1rCuTk39aReGCVfL9PmgfH7t3xPLOqBT1SsfKIVflpMHwGnG1mtQDMrBrwP+B4M6se5u+fk6n8YoIeCQjSd9JPGT4BLjKzcpneB6AisDJ8nwsyvc/m8LXsfgUam1n6GXAf4Kt8fI/8yBx7z/30noVq8IXdGDthKqPHf8m8P1Yw+KGXWbFmA4PO7gTAzY+/QedBD2aU731yIuXKlGbA7aOZ/ftyxn/2Aw++MJFrL+wW0xvuvjAzrul/Jg8+/TrjP57K7PmLGHDjw1QoX4bep3XKKNfv+ofod/1DGc8Hnd+d5UlruPbep5j3+1JGv/4RY8d/ypBLzs7pY4qsnWlO0o7g4cDGXZC0w9m4K2gQTF6zmxeX7RmccHglo5TBu0lprE5x5m1OY+q6NI6umlC8t6GLzubBUa8wftLXzP7tDwZc/wAVypWld489k7n1GzKMfkOGZVl31twFzJq7gM2bt7Fuw2ZmzV3A3AWLC/kbFLzB553A2A+/ZfSEacxbnMTgx95mRfJGBp1xLAA3PzWBzldlnVxv7qKVzJq/nOQNW9myPYVZ85cza37OM74UdYP7nMzY975m9PgvmPfHnwx+8EVWrFnPoHNOBODmka/ReeCebaf3yccEx+rbnmb2gmWMn/w9Dz4/gWv7nFy897O+p/Lg6PGM/3Q6sxcsYcDNT1ChXBl6n/rPjHL9ho6k39CRGc8H9erK8lVrufb+55i3cBmj3/qUse98wZABZ0ThWxScwSf8g7HfrmD0tD+Zl7SVwW//xoqNKQw6tj4AN0/4nc7/nZlR/qXvVvLm/1bx66qt/JG8jTd+XMUt7y+kZ+talC6l3gXJXZ5NbXefa2a3Ap+YWQKwiyAF6E5gOrAS+JEgTQfgWeA9M/uOoLGxNXyfSWbWGvjBzHYCHwI3A7cB3wJLCNJ70hsJrwHPmtnVQMYZmbvvMLMBwJtmVhL4HhiV23cws7bAZe5+SR5f9y7gOTO7OYypyOnVtQPrNm5h2Oj3WZm8gZZN6zPxiSE0CnsLViZvZOGy1RnlK1csx8dP3cBV979I+wvupGqlcgzp041r+3SL1lcoFDdcei7bd6Rw1Z3/Zf3GzXRodSiTxtxPxQrlMsosW7E6yzoHNqzLxNH3cd19oxg1biL1aldjxG1X0LPbcYUdfoFascMZu2zP5aYv16bx5VpoVck4o24JtqTCup17ehPKlDD6NCzBh6t288yS3ZRNgMSqCSRWLZ4nMeluGHR+sA3dPiLYhlq3YNKLD2fbhlbttV6b7gOzPJ/42TQa1a/NH1NfL/CYC1Ovk45i3catDBvzCSvXbqTlQXWZ+MhlNKobXCtauXYTC//MOhPbqdc9zZJM92lo0z9osO+eVvxu4tarW2JwrH72XVau2UDLpg2Y+OQNNKoX9BasTN7AwuV7tp/KFcvx8dNDuWrYGNr3vo2qlcozpO8pXNv3lGh9hUJxw8Vnsn3HTq6651nWb9pChyOaMWn0HVQsXzajzLKVWWeJOrBBbSaOupXrHniBUa9Nol6taoy4+WJ6dkks7PALVK+j6rBu6y6GfbKIlRtTaFm3AhMva02jakHdrNyUwsLkPferKFnCePDTxSxYsw13aFStDFcc14DBx/8jWl9BihArrvM3x5K2LQ707165K9phxK6KdaMdQcy7u3vxPinYH26fpFmXc7Xy57zLxLvy1fMuE+9Klcu7TDyb/GS0I4h5Ja6ePNPd20Y7jnRH1izpn58RO2Nbqo3eEFP1k059UCIiIiIiEpEaDCIiIiIiElHxmC5AREREROTvKKYTB+xP6mEQEREREZGI1MMgIiIiInGruE5NvD+ph0FERERERCJSg0FERERERCJSSpKIiIiIxC1lJOVNPQwiIiIiIhKRGgwiIiIiIhKRUpJEREREJD6ZZknKD/UwiIiIiIhIRGowiIiIiIhIREpJEhEREZH4pYykPKmHQUREREREIlKDQUREREREIlJKkoiIiIjEJcOwBF0/z4tqSEREREREIlKDQUREREREIlJKkoiIiIjEL924LU/qYRARERERkYjUwyAiIiIi8clQD0M+qIdBREREREQiUoNBREREREQiUkqSiIiIiMQpw0zXz/OiGhIRERERkYjUYBARERERkYiUkiQiIiIi8UuzJOVJPQwiIiIiIhKRGgwiIiIiIhKRUpIKQ5nKJBx8SrSjiFlpv38S7RBi3u2TJkc7hJh3d7eToh1CTLv9rZejHULsq1A32hHEvsXToh1BTLMLRkU7hNh3ddNoR7A3pSTlST0MIiIiIiISkRoMIiIiIiISkVKSRERERCRumVKS8qQeBhERERERiUgNBhERERERiUgpSSIiIiISn8zAdP08L6ohERERERGJSD0MIiIiIhK3LEGDnvOiHgYREREREYlIDQYREREREYlIKUkiIiIiEr90H4Y8qYdBREREREQiUoNBREREREQiUkqSiIiIiMQv3YchT6ohERERERGJSA0GERERERGJSClJIiIiIhKfzDDNkpQn9TCIiIiIiEhEajCIiIiIiEhESkkSERERkfillKQ8qYdBREREREQiUoNBREREREQiUkqSiIiIiMQvpSTlST0MIiIiIiISkXoYRERERCQuGWCm6+d5UQ2JiIiIiEhEajCIiIiIiEhESkkSERERkThlGvScD+phEBERERGRiNRgEBERERGRiNRgKKbcnTvve4h6TVpStnpDju92OnPm/prrOl9N+YZjOp1C9YYHU7Z6Qw49MpFHRjxZSBEXrqde/5QmJw+mXLv+tDvvFqb8mHvd/LJgKSdcdA/l2/en4Un/5p5R43H3Qoo2Otydu0a8QIMOPSl/aBc6nXcNc+YvynWdlavXcsE199DixD6UatKJAdffX0jRFq4l25xXl+9m+MJU7votlVkb0/JcZ1WKM2ZpKvfNT2X4wlS+Sk4r9tvQU699QpNuV1GuTR/anfsfpsycl2v5X+Yv5YT+d1G+bR8anng59zz1drGuoz372FmUP7TzX9jH7g73sROK7T6W7ql3p9Pk/Ico1+U22l36BFN+jlw/O3buYsADb9L64pGUPukWOg1+phAjjR53584HR1K/xTGUq38YJ/TozZxf5+e6zvj3P6Zrz37UOrgdlf7RiqM792TCR5MLKeIYY2AJFjOPWKUGQzH10PAnePTx/+OJR+/n+68/oVbNGnQ+7Ww2b94ScZ0KFSpw9eUD+frjCcydOZVbbxzCHfc9xP8983whRl7wXp80ncEPvcTQS3ow8/X7SGx1MN2veIilK5NzLL9pyza6DnqAWtUr8+24exgxtC+PjP2Ax178sJAjL1wPP/0qw0e/wcg7r+bb90ZRs3pVuva5ns1btkVcJ2XnTmpUrcyNl/emQ+vmhRht4dqZ5tQqDd1qJVAyH8f3lN3OS8t2U76kMbBRCbrVSmDaujSmry++J8OvT5rG4AfHMvSSM5j55gMktj6Y7pc/kPt+dul9wX726jBGDO3PI2Pe57EXPyjkyAtPsI+9zsg7r+Hb956mZvUqdO1znfax0Ouf/8zg/05k6AXHM/PZq0hs2YjuN41h6aoNOZbfvdspc0BJrjgjkVOOPrRwg42ihx5/huFPPs/jD9zOd5PfoVaN6nQ5q3+uv/dfTfuOE45LZOKro/nxy/c4ufO/OKvvFUyZ/n0hRi5FSUw0GMysnpm9Ff7d2sxOycc6x5vZxL/wGTfvz3KxzN0Z8eTTDL3uanqecRotD2vO2Gf+y+YtW3jljbcjrtfmyFacd86ZHNbiUA5s3IgLzz+HriedwJRvZhRi9AVvxEsf0a/HcQzs2YnmB9Xn8f/0o27NKox6I+erK+M+nMa2HSmMuecyWjZrSM+T2nPjgFN57KWPiu3VT3dn5PNvcdNlvel58r9oechBjHn0P2zeuo1XJkS+CtW4QV1G3nk1/c8+mapVKhZixIWrWYUETqxZghYVE8jP9aCfNzm7HM6ok0Ct0kaLigl0rJ7AjPXFt5dhxIsf0O/0fzHw7BOD/ezmAdStWZVRr3+aY/lxH0xl246djLnvimA/69yBGy/qwWMvflAs6yjYx97kpssuyLSP3ZzPfeyacB+rVIgRF74Rb06hX7c2DDy1Pc0b1eLxq3tQt3pFRk3I+TepfNkDeGrImVx6Wnsa1CzedZPO3Rn59BhuumYQPXt0o2Xzgxnz5MNs3rKVV95+P+J6I++/jaGDL6N9m1Y0Pagxd9x4NW1ateTdD3PeP0Wi3mAws5LuvsLdzw4XtQbybDD8DfltCBT5BsOixUtIWrWaLieekLGsbNmy/LNjItNmfJfv9/nfrJ+ZNuM7/nXcMQURZlTs3JXKzHmL6Jx4RJblnRMPZ/pPC3JcZ8ZPCzj2qEMpW+aAjGVdjjmCFWvWs/jPNQUab7QsWraSpDXr6Hxcu4xlZcuU5rj2rZg+c04UIyualu9wGpU1SmXqbm5SzticCht2RTGwArJzVyoz5+a0nx3B9Fk5p0rkuJ91bMWK1cVzP9uzj7XNWLZnH5sdxchiw85dqcycv4LObZtlWd65bTOmz14apahiz6Ily0hatYYuJxybsaxs2TL885h2TP/ux7/0Xpu3bKVq5cr7O8SiwRJi5xGj/nZkZtbYzH41s9FmNtvMxpnZSWb2jZktMLP24WOamf0v/PeQcN3+Zvammb0PfBK+12wzOwC4G+hlZrPMrFek98glrrpm9nW4/mwzO87MHgDKhsvGheXeNbOZZjbHzC4Nl2Uplx5Xpve+3szuDP++2szmmtnPZvba363HgpC0ajUAtWvVzLK8dq2aGa/lpkGzIyhdtT5tj+vMFZdexGWX9C+IMKMief1mdu9Oo3b1rFefalerTFLyxhzXSUreQO1qWQ+itasHz5PW5rxOUZe0Zh0AtWtUzbK8do2qGa9J/m1JhfIlsi6rEE5qvWV34cdT0JLXbwr3s733m6S1G3JcJyl5Q47l018rbvbsY9WyLNc+FkjeuI3daWnUrlohy/LaVSuQtH5zlKKKPUmrgxS/2rVqZFleq2YNklbnv6H95OiXWL4iiT69ztif4Ukxsq9NmabASOAI4FCgN3AscD3BlfpfgX+6+5HA7cCwTOsmAv3cvVP6AnffGZZ73d1bu/vrebxHTnoDH7t7a6AVMMvdhwLbw/e8ICx3kbu3AdoCV5tZ9QjlIhkKHOnuRwCX5VG2QI177S0q1GqU8di1K7hkadnmFXb3vZblZMqn7/PDlE8Z9fgjjHjyaV565Y0CiTua9qobPNdpmLO/lp4iUVymbh737qdUOqxbxmPXrlQg0jYUjQiLgezbUM6Li5W99hscy+UbR97Pin4t/bV9rOh/3/3lr25Dxd24N9+j4j+OyHjs+b3PVvAvbEdvT5jEjXc+yMtPP0qjhvX3c8RSXOzrjdsWufsvAGY2B/jM3d3MfgEaA5WBsWbWjOD3sVSmdT919/xcRsntPXLyPfC8mZUC3nX3WRHKXW1mZ4Z/NwSaAWvzEU+6n4FxZvYu8G72F8Nei0sB/tGwwV9427+uR/dudGh3VMbzlJSdQNDT0LDBnp1/9ZrkvXodcnJg40YAHN6yBatWr+bOYQ/Tp/e5+znq6KhRtSIlSiTs1Zuwet2mva5upqtTo8pePQmr120C2KvnoajqcVLHLAMoU3YGP0JJa9bRsF6tjOWr127Y64qo5K1CSdiamnVZ+vPsPQ/FQY2qlXLez9bmsZ/lsF8CEdcpSiLvY2tz2Meq7rV+vKlRuRwlEhJIWpd14O7q9Vv36nWIJz26nUiHNq0ynqfsTP+9T6Zh/XoZy1cnr6V2zRp7rZ/d2xMm0feK6xn7fw/T4+ST9n/ARYUa6Xna1x6GlEx/p2V6nkbQGLkH+MLdWwKnAWUyld+az8/I7T324u5fA/8E/gReMrO+2cuY2fHASUCiu7cC/hfhfVPJWkeZy3QHngTaADPNLEvjy92fcfe27t62Zo3quX7BfVWxYgWaNjko49Gi+SHUqV2LTz//MqPMjh07mDJtBscc3f4vvXdampOSkpJ3wSLigFIladP8QCbP+CXL8snTZ5PYqlmO6xzdqhlTf/yVHWFDDGDyjNnUq1mVxvXzboAVBRUrlKNp4wYZjxbNGlOnZjUmT/0ho8yOlBSmfv8ziW0Oi2KkRVODMsaS7U5q2p7Bu39scyqWhCp5XQIpgg4oVZI2LQ5k8vSfsyyfPONnElsfnOM6Oe5n03+mXq3isZ/9tX2sZRQjjQ0HlCpJm4PrMfmHrGPLJs9cQGLLf0QpquirWLECTQ9qnPFocUgz6tSuyadfTs0os2NHClOmf09i+6NyeSd4490P6HP5dbzw3wc5u8fJBR26FHEFPbqiMsGJO0D/fK6zGcg8vcpfeg8zawSsdvdngeeA9D1mV9jrkP6e6919m5kdChyd6S0yl1sF1DKz6mZWGjg1/IwEoKG7fwHcCFQBYuaSh5kx+MpBPPDo44x/byKz58yj/6CrqFC+PL3P7ZlRru8lV9L3kisznj/x1LNM/OgTFvy+kAW/L+S5sS/zyMgnufC8s3P6mCJrcJ+TGfve14we/wXz/viTwQ++yIo16xl0zokA3DzyNToP3JP51vvkYyhXpjQDbnua2QuWMX7y9zz4/ASu7XNysU0dMDOuuehsHhz1CuMnfc3s3/5gwPUPUKFcWXr32HMVqt+QYfQbkjVLcNbcBcyau4DNm7exbsNmZs1dwNwFiwv5GxSsnWlO0o7g4cDGXZC0w9m4K2gQTF6zmxeX7RmccHglo5TBu0lprE5x5m1OY+q6NI6umlBst6HBfbsz9r2vGP3258F+9sAYVqxez6Bzg+3n5hGv0vmSezLK9z7lWMqVOYABtz4V7mff8eBzE7i2b/diWUfBPnZOPvax++g35L4s6+7Zx7aybsOmYrmPAQw+5zjGfvwjoz/4nnlLVjP4ifdZkbyZQad1AODmZyfRecjoLOvMXbyKWb+vIHnjNrZs38ms31cw6/cV0Qi/UJgZ1wzqz4Mjn2b8+x8ze958Bvz7xuD3vudpGeX6XX49/S6/PuP5a+MncuGg67j/9hv4Z2J7klatIWnVGtat3xCFbyFFwb6mJOXlIYJ0oiHA5/lc5wtgqJnNAu7Pz3uYWVvgMne/BDgeuMHMdgFbgPQehmeAn83sR+Ai4DIz+xn4Dcg8R1tGOXe/wMzuBr4FFhGMpwAoAbxsZpUJUpAfc/cN+fx+heLGIVexfccOrrz2JtZv2EiHdkfxyYQ3qVhxT7tm6fLlWdbZvXs3N912N4uXLKNkyRI0ObAxD9x9W7Ea9AzQq1si6zZuYdiz77JyzQZaNm3AxCdvoFG94CrmyuQNLFy+KqN85Yrl+PjpoVw1bAzte99G1UrlGdL3FK7tWxCTecWOGwadz/YdKVx1+wjWb9xMh9YtmPTiw1SsUC6jzLIVq/Zar033gVmeT/xsGo3q1+aPqa8XeMyFZcUOZ+yyPTdr+3JtGl+uhVaVjDPqlmBLKqzbuac3oUwJo0/DEny4ajfPLNlN2QRIrJpAYtXidyKcrle3Y1i3YQvDnhkf7mcNmfh/Q/fsZ2vWs3BZtv3smVu46r7naX/ezcF+1q871/btHq2vUOD27GOPsX7jFjq0bs6kFx/Jto/tPVFFm+6XZHke7GN1itU+BtCr0xGs27SVYS99zsp1m2nZuDYTH+hPozpBytbKtZtZuCJrJvGpQ8ewJNN9GtoMfAKA3V8U3xvc3Xj1pWzfsYN/33Rn8HvfphUfvz0m6+/9n1kbTU+PeYXU1FSuvflerr353ozl/+rYni8mvFJosccGK5YXJfY3K47zW8eatke19h+mxukdFPMh7fdPoh1C7KukgWh5ubtbHOff5sPtb70c7RBiX4W60Y4g9i2eFu0IYpodcU60Q4h5CdWbznT3tnmXLBxt6pXz6YOaRjuMDKXv/CWm6iddQfcwiIiIiIjEJkODnvMhdu8QISIiIiIiUacGg4iIiIiIRKSUJBERERGJX6br53lRDYmIiIiISERqMIiIiIiISERqMIiIiIhI3DKzmHnkM95uZvabmf1uZkNzKdfOzHab2T7fgVcNBhERERGRIsDMSgBPAicDLYDzzaxFhHIPAh/vj89Vg0FEREREpGhoD/zu7n+4+07gNeD0HMpdBbwN7H27+L9BsySJiIiISJwySIipG7fVMLMfMj1/xt2fyfS8PrAs0/PlQIfMb2Bm9YEzgU5Au/0RlBoMIiIiIiKxIdnd2+byek6tG8/2fARwk7vvzu+4iLyowSAiIiIiUjQsBxpmet4AWJGtTFvgtbCxUAM4xcxS3f3dv/uhajCIiIiISHwysKJ147bvgWZmdiDwJ3Ae0DtzAXc/MP1vMxsDTNyXxgKowSAiIiIiUiS4e6qZ/Ztg9qMSwPPuPsfMLgtfH1UQn6sGg4iIiIhIEeHuHwIfZluWY0PB3fvvj89Ug0FERERE4td+GhhcnBWppC0RERERESlc6mEQERERkfilHoY8qYdBREREREQiUoNBREREREQiUkqSiIiIiMQlw9hfd0MuztTDICIiIiIiEanBICIiIiIiESklSURERETil+n6eV5UQyIiIiIiEpEaDCIiIiIiEpFSkkREREQkPhm6cVs+qIdBREREREQiUoNBREREREQiUkqSiIiIiMQt3bgtb2owFIadW0hbMjXaUcSuUmWjHUHsW/lztCOIebe/9XK0Q4hpd599YbRDiHm3v/NGtEOIfY06RDuCmOZLpkQ7BJECoZQkERERERGJSD0MIiIiIhKnDBJ0/TwvqiEREREREYlIPQwiIiIiEr806DlP6mEQEREREZGI1GAQEREREZGIlJIkIiIiIvHJANP187yohkREREREJCI1GEREREREJCKlJImIiIhInDLNkpQP6mEQEREREZGI1GAQEREREZGIlJIkIiIiIvFLsyTlSTUkIiIiIiIRqcEgIiIiIiIRKSVJREREROKXZknKk3oYREREREQkIjUYREREREQkIqUkiYiIiEicMs2SlA+qIRERERERiUg9DCIiIiISnwwNes4H9TCIiIiIiEhEajCIiIiIiEhESkkSERERkfilQc95Ug2JiIiIiEhEajCIiIiIiEhESkkSERERkfilWZLypB4GERERERGJSA0GERERERGJSClJIiIiIhKnTClJ+aAeBhERERERiUgNhmLK3bnrv6/R4F8XUf7IXnTqdytzFizNc72vvp9Nu7Ovo1zrc2na5TJGvTapEKItfE+9+hFNOl9Guda9aHf29Uz5YW6u5X+Zv4QT+t5K+SPPo+Hxl3DP/72BuxdStNHx1NtTaNLzTsodP4R2Ax5iyqyFEcvuSNnFgHtfpnWfByh93GA6Xfl4IUYaHU+99glNul1FuTZ9aHfuf5gyc16u5X+Zv5QT+t9F+bZ9aHji5dzz1NvFdhtass15dfluhi9M5a7fUpm1MS3PdValOGOWpnLf/FSGL0zlq+S0Yls/6fYcpy+m/JHn0anfbfk8Ts+h3dnXU651L5p2uZxRr31cCNFGh7tz14gxNDj6HMo370an869lzvxFua6zcvVaLrjmXlqc1I9STU9iwA0PFlK0he+pNz6nyak3UO7ogbTrfSdTfpwfseyOlF0MuGM0rc+9jdLtL6HTwAcKMVIp6tRgKKYefu4dho95j5G3DOTbNx6iZrXKdL3kTjZv3R5xnUXLV3HqZfeS2PpQZr79KDcNPItrho3m7U+mF2LkBe/1j6Yy+P7nGXppT2a+/SiJrQ+h+6B7WbpiTY7lN23ZRteL76JW9Sp8+8aDjLj5Yh55/l0eGzOhkCMvPK9P/pHBI95maN8uzBxzI4mHH0T3655iadK6HMvvTkujzAGluKLncZxyzGGFHG3he33SNAY/OJahl5zBzDcfILH1wXS//AGWrkzOsfymLdvoeul91KpemW9fHcaIof15ZMz7PPbiB4UceeHYmebUKg3daiVQMh89/Sm7nZeW7aZ8SWNgoxJ0q5XAtHVpTF9fvBsMwXF6AiNvuYRv33gwPE7flc/j9CHF+jid7uGnX2P4c28y8o6r+Pbdp6hZvQpd+97I5i3bIq6TsnMXNapV5sbLzqdD60MLMdrC9frH3zL4kVcYetGpzHzlLhJbNaX7VcNZunJtjuUzjtO9TuSUY48o5GhjnCXEziNGxW5khcDMWpvZKZme9zCzodGMaX9wd0a+OJGbLjmLnl0SadmsEWPuv5rNW7fzysSvI6739OsfU69mNR6/dSDNmzRk4Dld6Hv6CQx/4d3CC74QjBjzPv3OOIGB53SmeZMGPH7rQOrWrBrxKt24iV+zbUcKY+6/ipbNGtGzSyI3XnImj419v9heAR3x2hf0O6UDA08/huaN6/D4kLOpW70yo96ZmmP58mVL89SNvbj0jI40qFWlcIONghEvfkC/0//FwLNPpPlB9Xn85gHBNvT6pzmWH/fBVLbt2MmY+66gZbOG9OzcgRsv6sFjL35QLLehZhUSOLFmCVpUTCA/mcE/b3J2OZxRJ4FapY0WFRPoWD2BGeuLby9Dzsfpq/7icboBA8/pTN/Tj2f4C+8VYvSFw90Z+cLb3HTZ+fQ8+Z+0PORAxjwylM1bt/HKhM8irte4QR1G3nEV/c/uRtXKlQox4sI1Ytwn9DutIwPP+hfND6rH4zddSN0alRn11uc5li9ftjRP3dKPS3seT4NaVQs5Winq4rrBALQGMhoM7j7B3Yt8H92i5atISl5P546tM5aVLVOa49oexvRZv0Zcb8as3+jcsVWWZV06tuaHOQvZtSu1oMItVDt37mLm3IV0PqZ1luWdO7aKWDczZv3GsW2aU7ZM6YxlXTq2ZsXqdSz+c3VBhhsVO3elMvO3ZXTukPXKXOf2hzD9l9xTAeLBzl2pzJy7iM6JWa/QdU48gumzck4HmPHTAo496lDKljkgY1mXjq1YsXo9i//MuWcrnizf4TQqa5RK2NO8aFLO2JwKG3ZFMbACFBynN2Q55gbH6RZMn/VbxPVmzJqfw3H6yGJ1nE63aNlKktaso/OxbTOWlS1TmuPaHcH0H+dEMbLo27krlZnzFtP56JZZlnc+uiXTf4qcPiryd0WlwWBmQ8xsdvgYHC7ra2Y/m9lPZvZSuKy2mb0TLvvJzI4xs8ZmNjvTe11vZneGf39pZiPMbFr43u3D5e3DZf8L/z3EzA4A7gZ6mdksM+tlZv3N7L/hOo3M7LMwps/M7B/h8jFm9nj4Pn+Y2dmFWXf5kZS8AYDa1atkWV67euWM13Jeb/3e69SoQmrqbpI3bNq/QUZJ8obN7N6dRu0albMsr129SsS6SUrekENdVsl4rbhJ3rA1qKOqFbMsr12tIknrNkcpqtiRvH5TUD/Vs29DlUlauyHHdYJtaO/y6a/Fuy2pUL5E1mUVwjn8tuwu/HgKQ+TjdORjUbBeTsfpysXqOJ0uaU2QAlm7Rtar4bVrVM14LV5l/JZVy9qDUrt6JZLWboxSVEWUEcySFCuPGFXoDQYzawMMADoARwMDzawjcAvQyd1bAdeExR8HvgqXHQXk55JCeXc/BrgCeD5c9ivwT3c/ErgdGObuO8O/X3f31u7+erb3+S/worsfAYwLY0lXFzgWOBXIsUfCzC41sx/M7Ic16wr2ID7u/a+o1Ob8jMeu1NT0GLKUc997WXZ7rxOkA1i+EguKjuzfx91zrZuI9VK8qiWLHLefKMUSi7L/3zue636yV/mMbUi1Cuy1cXnOi4us4DjdO+OxKzVoCeV0bMlrk9h7WwqXF/HaGvfuZCq1PCXjkXsdFe3vur/8ne1H5O+Ixn0YjgXecfetAGY2HmgLvOXuyQDunn7poBPQN1y2G9hoZnkl3r0alv/azCqZWRWgIjDWzJoR/A6VykecicBZ4d8vAQ9leu1dd08D5ppZ7ZxWdvdngGcA2rZsWqBJuD06tafDEQdnPE/ZGfThJyWvp2HdGhnLV6/buNdVzszq1KhKUvL6LMtWr91IyZIlqF6lYoS1ipYaVSpSokTCXlfwcqubOjWq7F0v64IrONmv9BUHNaqUD+ooW0N39frN1K5WPLaDfVGjaqVwG8p6FW/12k15bEPZyof1m9s+GS8qlISt2bJp0p9n73koqv7acbpKxPcJjtMbsiwrLsfpHicdQ4fWzTOep+zcCQQ9DQ3r1cpYvnrthr16HeJNxm/Z2uzHlc3UrqZjyl9jMT3YOFZEo4Zyavs6ey4o5SWVrHGXyeG9sj+/B/jC3VsCp+WwTn5kft+UTH9HvS1fsXxZmjaqm/Fo0bQhdWpUZfK0nzLK7EjZydSZc0nMZcaIo1sfwmfTf86ybPL0n2h7WBNKlSoe9/g74IBStGnRhMnTf8qyfPK0nyLWzdGtD2HqzHnsSNmZpXy9WtVoXL9WjusUZQeUKkmbQxoy+busedSTv/+NxMMPjFJUseOAUiVp0+JAJmffV2b8TGLrg3Nc5+hWzZj6469Zt6HpP1OvVlUa169ZoPEWBQ3KGEu2O6lpew6zf2xzKpaEKvm5vFME5HycrpLDcXoeia0Pifg+R7c+uNgepytWKEfTxvUzHi2aNaZOzWpMnjozo8yOlJ1M/eEXEo8q/rOx5eaAUiVp07wxk2dkTbyY/O0cEls1iVJUUpxFo8HwNXCGmZUzs/LAmcBM4Fwzqw5gZtXCsp8Bl4fLSphZJWAVUMvMqptZaYK0oMx6heWPBTa6+0agMvBn+Hr/TGU3E/Q+5GQacF749wVAztPDxCAz45q+p/Lg6PGM/3Q6sxcsYcDNT1ChXBl6n/rPjHL9ho6k39CRGc8H9erK8lVrufb+55i3cBmj3/qUse98wZABZ0ThWxScwf1PY+w7XzD6rU+Zt3A5g4c9x4rV6xnUqwsANw9/mc4D7sgo37v7cZQrU5oBNz/B7AVLGP/pDB4c/Q7X9jut2HaLDz7vBMZ++C2jJ0xj3uIkBj/2NiuSNzLojGMBuPmpCXS+6r9Z1pm7aCWz5i8necNWtmxPYdb85cyavzwa4Re4wX27M/a9rxj99ufM++NPBj8wJtiGzj0JgJtHvErnS+7JKN/7lGMpV+YABtz6FLMXLGP85O948LkJXNu3e7HchnamOUk7gocDG3dB0g5n466gQTB5zW5eXLZncMLhlYxSBu8mpbE6xZm3OY2p69I4umpCsawfyHycfofxn874m8fp5ZmO06dH42sUKDPjmgE9efDpVxk/6Wtm/7aIATc8SIVyZend48SMcv2uu59+192fZd1Zc39n1tzf2bxlK+s2bGLW3N+Zu2BxIX+DgjX4gi6MfX8qo9/5inl/rGDww+NYsWYDg3qeAMDNT7xJ50EPZVln7h9/Muu3pSRv2MKWbSnM+m0ps37L+94fIoV+OcLdfzSzMcB34aLR7v6Nmd0HfGVmu4H/b+/O42ws/z+Ov68ZO4NhGNuEbJFlyjJNWr7J2PKjqJRCKkt980UbX60S7UL1TZKor6KSkkRpERlZSouE5CsyMwwzYywzY2au3x9nHLPdzihzzpk5r+fjcT9yrrmucz7n6r7vmc99Xfd1fy/XH/ajJc0yxtwmKUvSHdbaWGPMY5K+lbRLrvsTcksyxqyVVFXSrTllT8s1JeluSbnXG/tS0nhjzGZJec820r8kzTHG3CfpgFz3XZQY9912jY6nZWjUpFeVdPiIoto20/LZjyikckV3nT1xeVdnadwgXEtnPqh7nnxdMxcsV73aNTRtwm3q3y3a2+EXqwE9L9Gh5FRNmfme4g4kqXWzc7T0lQfUMGe0IC4xSTv3xLvrVwuprBWvPaJRk15Vp+vuV2jVyrr7lj4ae0sfX32FYjeg64U6lHJUU+Z+qriDKWp9bl0tfXakGtZ15fJxBw9r5595nznQ+55XtDvXcxra3+L6RZW1tvQ9xG1Aj4t1KPmIpsx6X3EHktW6aYSW/me8GtZzjRbEHUjSzj0J7vrVQippxawHNGryHHW6YYJrHxpylcYOvspXX6FY7Uuzmrfn1MPavjqYra8OSu2qGl1dN1hHMqVDGadGEyoEGw2KCNayhCzN2p2likFSdGiQokNLZ7Jw0qnz9CwlHT6ac55+ON95Ou9xduo8PUczF6wotefpk+4bcYOOp6Vr1CMzlJSSqqjIllo+72mFVKnkrrNnX8HV6tr3Hp7n9dLPY9Wwfrh+X/12scfsLQO6R7nO07M/Ulxiilo3qa+lM8aqYT3XFLe4xBTt3Ju3b3qPel67cz2nof2NrotjWd+97r3A/VEpvTBxNpnStMa1MeYrSfdaazf6OpbcOrRuate/+6yvw/BjpWcfLDbJpfNK/VkVUvqmh51Nj117s69D8HsPL37H1yH4vwrVfR2Bf0ve7esI/F7whUM3WWs7eK7pHR0ahdr1D13h6zDcgm9f7Ff9cxJ3eQAAAABwVLLvkMrHWvsPX8cAAACAEoRVkjyihwAAAAA4ImEAAAAA4KhUTUkCAAAAis6wSlIRMMIAAAAAwBEJAwAAAABHTEkCAABAYDJilaQioIcAAAAAOCJhAAAAAOCIKUkAAAAIXKyS5BEjDAAAAAAcMcIAAACAAGW46bkI6CEAAAAAjkgYAAAAADhiShIAAAACFzc9e8QIAwAAAABHJAwAAAAAHDElCQAAAIHJiFWSioAeAgAAAOCIhAEAAACAI6YkAQAAIHCxSpJHjDAAAAAAcETCAAAAAMARU5IAAAAQoAyrJBUBPQQAAADAEQkDAAAAAEdMSQIAAEDgYpUkjxhhAAAAAOCIEQYAAAAELm569oiEwRtstpSZ5uso/Ff5EF9H4P8q1/R1BP6vSl1fR+DXHl78jq9D8HuPXXO9r0Pwew9/usrXIfi3zHRfRwAUC1IqAAAAAI4YYQAAAEBgMoabnouAEQYAAAAAjkgYAAAAADhiShIAAAACF6skeUQPAQAAAHBEwgAAAADAEVOSAAAAELiCWCXJE0YYAAAAADgiYQAAAADgiClJAAAACFw8uM0jRhgAAAAAOCJhAAAAAOCIKUkAAAAITMbw4LYioIcAAAAAOCJhAAAAQOAyxn+2IoVrehhjthljfjPGjC/k5zcZY37M2dYaY9r93S4iYQAAAABKAGNMsKSXJPWU1ErSjcaYVvmq7ZJ0ubW2raRJkmb93c8lYQAAAABKhk6SfrPW/m6tzZC0QFLf3BWstWuttUk5L9dJavB3P5SbngEAABC4StZNz/Ul7cn1eq+kqNPUv03SJ3/3Q0kYAAAAAP8QZozZmOv1LGtt7ilFhd3oYAt7I2PMFXIlDJf83aBIGAAAAAD/kGit7XCan++VFJHrdQNJ+/JXMsa0lTRbUk9r7cG/GxQJAwAAAAJUiXsOwwZJzYwxjSX9KekGSQNzVzDGnCPpfUmDrLXbz8aHkjAAAAAAJYC1NtMYc5ekFZKCJc2x1m4xxozM+flMSQ9LqinpP8a1VGumh1ELj0gYAAAAgBLCWrtM0rJ8ZTNz/ft2Sbefzc8kYQAAAEDgKllTknyCHgIAAADgiIQBAAAAgCOmJAEAACAwGUmmsEcbIDdGGAAAAAA4ImEAAAAA4IiEoRR6ecGnatLjX6rUYbA6Dpig1Zt+PW39n7b/oSuGTlTljoMV0fVOTZq5SNYW+pTxUsNaq4kvzFeDSwarctt+6jJovLbs2O2x3ar1P6ljv9Gq1OYaNb3yNs18e5nHNiXVyws/U5OeY1Sp4y3qeMMDWv2dh/1oxx+64tZJqtzpFkV0vUuTZr5fqvcja60mTntdDaL6qfJ5Mepyw2ht2b7rtG3i9h/UTaMfU6srB6lskys09N4nvBStb1hrNfHFBWpw+W2qfMEN6jLkIW3Z8YfHdqs2bFHHa+9VpcgBatrtDs1csMIL0XrX7mNWb+/N0tSdmZq4LVObU7I9tklIt5r7R6Ymb8/U1J2ZWpWYXaqPMSlnH3r+NTXo2EeVm1+hLgPu0pbtv5+2TVxCom4a9ahadblRZRtfqqH3PO6laL3v5fe+UpO+D6jSJXep4+ApWv39Dse6aeknNHTiXEUOnKTy0Xeqy8jnvBipP8t5cJu/bH7KfyPDX7JweazGPP2Gxt/eV5veeULRkc101Z1P6o+4xELrHz5yTN1HTFHtmtX07VuTNW3cED07d6mef+NjL0fuXc+8ukhT53yg6Q+N0LfvTVWtGtXVfehDSj1yzLHNrj3x6j38UUVf0FKbPpihcSOu0+jHX9GiFd94MXLvcO1Hb2r87X20aeFkRbdrrqvufNrDfvSkaz+aP0nTxg/Ws/M+1vNvlN6E6plX3tbU2Qs1/dHR+vbDV1SrZnV1H3TPafeh9IwMhYVW0/13DFRUZEsvRusbz7y2WFPnLtH0B27Xt+88pVo1qqn77ROVevS4Y5tdexPUe+Tjio5soU2LntO4Yf00espsLfo01ouRF7+MbKva5aUetYNUpgjTp9OzrN7ck6XKZYyGNQxWj9pBWnsoW7FJpTtheGbmfE199W1NnzhW3370mmrVDFX3m8Yo9chRxzbpGScUVqOa7r/jZkVFtvJitN618LONGvPcOxo/tIc2vfmAotucq6vGvKg/4g8VWj8rO1sVypXVndf9Q706t/FytCjpSBhKmWlvfKwhfS7TsGuvVMtz62vGv4eqbq1QzXzns0Lrz//4Gx1Ly9Dcx+9U62YR6h8Tpftv/T89/+ayUnvlylqr6W98qHHDr1X/7p3VunkjzX1qrFKPHtdbS1c5tntlwSeqV7uGZjw0Ui2bRGjY9T00+OorNXXO+16M3jumvfmJhvS5VMP6d8nZj4aobq3qmvnOykLrz1+2VsfS0jV30kjXftS1k+4f2lvPv/lJqdyPrLWaPuddjRt5k/r3vFytW5yruc9NUOrRY3prSeF9JEmNGtTV9EdH65Zreyq0elUvRux9ruNsqcbd3k/9u0WrdbOGmvvEqJzj7GvHdq8sXKF6tWpoxoPD1LJJAw27LkaD+/5DU1//0IvRF79mVYJ0Za1gtQoJUlFut/zxsNUJK11dJ0i1yxu1CglS55pBWpdUekcZrLWa/to7GnfHIPXvdYXrOJv6oOs4+7Dw32mS1CiirqZPHKtbrruqVB9n095aqSG9ozXs6kvVsnFdzbjvBtUNq6qZiwr/PVa5Ynm9/O+bNPyaS9UgvLp3g/V3vh5VYITB/xmXUtEPGScytWnrLsVc3DZPeUx0G8Vu3l5om3U/7NAlF7ZQxQrl3GXdLm6nffuT9L8/DxRrvL6ya2+C4g8kKabzBe6yihXK69KO5yv2+62O7dZt/lUxnS/MU9btkgu18effdOJEZrHF623u/Si6kP3oh8KHu1370Xn59qO22negdO5Hu/bEKf7AIcVc2sFdVrFCeV3aqZ1iN/3sw8j8x669CYpPTFZM53busooVyuvSDq0Uu3mbY7t1m7fnaSNJ3TpfoI1bdpaq4+xM7U2zaljRqGzQqfSiSSWj1Ewp+YQPAytGu/bsU/yBg4q5rJO7zHWcRSp2008+jMz3Mk5katOvfygmKu8ISkxUK8X+ePopW8BfUSr+UD5TxphGxpitxpj/SPpO0mvGmI3GmC3GmIm56nU0xqw1xvxgjFlvjAkxxgQbY54xxmwwxvxojBnhu2+SV2LSYWVlZSu8RrU85eE1qyk+MaXQNvEHkxVes2D9kz8rjeIPJEmSwsOq5ykPr1ld8YlJzu0SkxReM1+bsOrKzMxSYtLhsx2mzyQmpbr2o5p5r8yF1zjNfpSYXOh+J0nxBwtvU5LFH3AN+YeH1chTHh4W6v5ZoItPTJakgsdMzerunxXerrDjrJrrOEsuPcfZmTqSKVUOzltWJWdh9CNZ3o/HG+L3nzzOQvOUh4fVCPjjLDH5SM7v+/zn6aqKPxi4xwmKT0AmDDlaSHrDWnuBpHustR0ktZV0uTGmrTGmnKSFkkZba9tJ6irpuKTbJKVYaztK6ihpmDGmsW++QuFMvvWErbUFyjzVlyRTpIFy/zd/yZeqesG17u1EpusqZYHvLc/fOX83uvuqFK7hXLB/7GmXqnbum7MdmffN/+AzVT2/h3s7eaX7TI+10mz+R6tUtf1A93Yi0/VXbOF9dPr3Krgv5ZSXknPSX5a/XwovLrHmL16hqi27ujfnc3XgHmf5FXbepWv+AmP8Z/NTgfzgtt3W2nU5/77eGDNcrv6oK6mVXOfiOGvtBkmy1h6WJGNMN0ltjTHX5rStJqmZpDzLo+S833BJOqduWDF/FZew0KoKDg4qMDKw/9DhAleLT6pTyNW+/YdcVyfyjzyUVH26RCmqXQv36/QM1/h9/IEkRdSt5S7ffzC5wKhDbnXCQgv21cEUlSkTrJrVQ85qzL4UFhri2o/yjSa49qPC94k6YdULjCS496MaJX8/6tO1c56blE/tQwcVUa+2u9y1D4UWaB8I+nTppKi2zd2v3X2UmKSIXOfA/YdSCowg5BYox9mZqlJGOppvRtbJ1/lHHkqqPjGXKOqC892v0zMyJLlG9CLqhbvL9ycmBexxdlJY9So5v+/zjibsT0otMOoAnA2BPMJwVJJyRgfulXSltbatpI8lVZDrok1hd5IZSaOstZE5W2Nr7af5K1lrZ1lrO1hrO9QK9c4vuXJly6h9y8ZaGZt3bufKdT8pOrJ5oW0uatdMa77bprT0jFP1Y39SvdqhalS/VqFtSpqQKpXUtGE999aq6TmqUytUK9dudtdJS8/Qmo1bFH2B88o1F0Wep89ztZGklWu/V4fWTVW2bOnJvd370bp8+1Hsz4pu16zQNq796Ne8+9G6n1WvVunYj0KqVFLTRg3cW6tmjVSnVg2tXLPRXSctPV1rNvyo6PatfRip74RUrqimDeu6t1ZNI1QnrLpWrv3BXSctPUNrNm1VdGQLx/e5KLK5Po/9MU/Zytgf1OH8JqXqODtTDSoY7T5ulZl96tfS78esQspI1cv6MLCzKKRK5XzHWWPVqVVTK1evd9dJS0vXmg0/KLp9YK/yU65sGbU/7xytXJ/3vruV325VdNtzfRQVSrNAThhOqipX8pBijAmX1DOn/FdJ9YwxHSUp5/6FMpJWSLrDGFM2p7y5MaayD+Iu1JjBV2neh6s0e9EX2vr7nxrz5Dzt25+kEdd1lSRNmP62Ym4/tSb1wF6dValCOQ19aKZ+3rFH769cr6fmLNHYQb1K7ZCvMUajB/fVU7Pe1fufrtXP2/+noeOfV5VKFTWw9+XuekPuf05D7j+1TvWIG3pqb0Kixk6epa0792j2uys0b/HnuvvWfr74GsVqzKCemvfh15r9/peu/eipN7TvQJJGXHelJGnC9AWKGTbFXX9gz4tVqUJ5DX3olZz9aEPOftSzVO5HxhiNvvU6PTXzLb2//Gv9vO13Db33Sdc+1Keru96QuydryN2T87Td/MsObf5lh1JTj+pQ8mFt/mWHftnxPy9/g+LnOs5666nZi/X+Z+v0847dGjrhBVWpVEEDe1/mrjdk/HQNGT/d/XrEgO7am3BQY594TVt37tXs9z7TvMVf6u6hfX3xNYpNRrZVfJprs5JSTkjxaVYpJ1wJwcoDWXpjz6mbE9pUNSprpA/is7U/3WprarbWHMrWRaFBpfIYk3L2oduu11Mv/1fvf/JVznE22XWc9Y1x1xsydpKGjJ2Up+3mLdu1ect2pR7JOc62bNcvHp6TUtKMGdhV85bGavYHa7R1V5zGPLdQ+xJTNKKf6/ia8NJixdz5fJ42v/y+T5u371Fi8lEdOZauzdv3aPP2Pb4I34/wHIaiCNzLNTmstT8YY76XtEXS75K+ySnPMMYMkPSCMaaiXPcvdJU0W1IjSd8Z11n6gKSrfRB6oQb0iNah5FRNeXWx4g4kq3XTCC19aZwa1nNd5Y07kKydexPc9auFVNKKVyZo1JTX1enGBxRatbLuHtxLYwdf5auv4BX3Deuv4+npGvXYy0pKOaKodi20fM5jCqlSyV1nT1ze1X0aR9TR0lmP6p4nZmvm28tUr3ZNTXtguPp37+zt8IvdgB7ROpRyRFNe/SBnP2qgpS/dd2o/SixsPxqvUVPmqtPAh3LtR7189RWK3X0jbtTxtHSNevh51z4U2VLL33g27z60b3+Bdu2vuj3P66Wfr1XD+nX0+5qFxR6zt9132zU6npahUZNmKenwUUW1bablsx9WSOWK7jp78j3bo3GDcC2d+aDueXKOZi5YoXq1a2jahNvUv1u0t8MvVvvSrObtOfWwtq8OZuurg1K7qkZX1w3WkUzpUMap0YQKwUaDIoK1LCFLs3ZnqWKQFB0apOjQ0pksnHTfyJtcx9lDU5V0OFVRka20/L/TFFLl1HW6PfsSCrRr32tontdLV36jhg3q6PdvFhV7zN4yIKaD6zz9+jLFJR5W6yb1tPT5u9Swbk1JUlxiinbmW6Wu99gXtTvu1A3j7W92XdDIWj/Te4GjRDKldf1mf9Lh/HPt+gVTPFcMVOUDd15ykaWVvpWGzrqqDXwdgX87ftDXEfi9x6653tch+L2HP3V+Vg0kJQT2cq9FEdxp5KachWb8Qodmde36Gbf4Ogy34F5P+lX/nBTwIwwAAAAIUEZ+PRXIX9BDAAAAAByRMAAAAABwxJQkAAAABCjDlKQioIcAAAAAOCJhAAAAAOCIKUkAAAAIXKX04YdnEyMMAAAAABwxwgAAAIDAxU3PHtFDAAAAAByRMAAAAABwxJQkAAAABCiew1AU9BAAAAAARyQMAAAAABwxJQkAAACByUgK4vq5J/QQAAAAAEckDAAAAAAcMSUJAAAAgcsYX0fg9xhhAAAAAOCIhAEAAACAI6YkAQAAIEDx4LaioIcAAAAAOCJhAAAAAOCIKUkAAAAIXExJ8ogeAgAAAOCIEQYAAAAEJiOew1AEjDAAAAAAcETCAAAAAMARU5IAAAAQoHgOQ1HQQwAAAAAckTAAAAAAcMSUJG8ILidVi/B1FP4rLdnXEfi/spV8HYH/+99aX0fg3xpG+ToCv/fwp6t8HYLfe6zb5b4Owa89su43X4eAv4IpSR7RQwAAAAAckTAAAAAAcMSUJAAAAAQupiR5RA8BAAAAcETCAAAAAMARU5IAAAAQoIxkjK+D8HuMMAAAAABwRMIAAAAAwBFTkgAAABCYjFglqQjoIQAAAACOGGEAAABA4GKEwSN6CAAAAIAjEgYAAAAAjpiSBAAAgADFcxiKghEGAAAAAI5IGAAAAAA4YkoSAAAAAherJHlEDwEAAABwRMIAAAAAwBFTkgAAABC4mJLkET0EAAAAwBEJAwAAAABHTEkCAABAYDKGKUlFQA8BAAAAcETCAAAAAMARU5IAAAAQuIKMryPwe4wwAAAAAHDECAMAAAACFzc9e0QPAQAAAHBEwgAAAADAEQlDKWWt1cTnX1ODjn1VuXkXdRlwl7Zs//20beISEnXTqEfVqstAlW18mYbeM9lL0XqftVYTX5ivBpcMVuW2/dRl0Hht2bHbY7tV639Sx36jVanNNWp65W2a+fYyL0TrG9ZaTXxxgRpcfqsqXzBAXYY8qC07/vDYbtWGn9Xx2ntUKfJ6Ne02UjMXLPdCtN738gexanLj06rU7SF1HP6CVv+4y7FuWsYJDX3yXUXeNl3luz6gLmNmeTFS37HWauK0uWpw0XWq3LKHutw4Vlu2O/eTJMXtP6ibRj+uVl2HqGzTrhp631Neitb7Tp2n+6hy8yvO8Dx9o8o2vlRD73ncS9F61+5jVm/vzdLUnZmauC1Tm1OyPbZJSLea+0emJm/P1NSdmVqVmC1rrRei9S1rrR598nnVb9lJleq20BW9B2jL1u2nbfP+R8vVvd8g1W56oapGnK+LuvbVkmWfeSlif5PzHAZ/2fyU/0aGv+WZmfM19dUFmj5xrL79aLZq1QxV95vGKvXIMcc26RknFFajuu6/42ZFRbbyYrTe98yrizR1zgea/tAIffveVNWqUV3dhz502v7ZtSdevYc/qugLWmrTBzM0bsR1Gv34K1q04hsvRu49z7y2WFPnfqjpDwzTt+88rVo1qqn77Y8q9ehxxza79iao98jHFR15njYtek7jhvXT6CmztejTWC9GXvwWfvGjxry4VONv+oc2vTpK0a0b6qpxc/VHQnKh9bOyrCqUK6M7r45Wr4vO826wPvTMKws09bV3Nf2RUfr2g5dVq2Z1dR98fxHOQ9V0/8gbFRVZuvvKdZ5+O+c8/VrOeXqMUo8cdWzj7p9Sfp7OyLaqXV7qUTtIZYqwgE16ltWbe7JUuYzRsIbB6lE7SGsPZSs2qfQnDE9Pn6mpL83WjKcmav3nS1S7Vpi69btZqalHHNus+madrrg0WksXztF3qz5Wz5gr1G/QCK1eu96LkaMkIWEohay1mv7auxp3x83q3+sfat3iXM2d+qBSjx7TWx9+6tiuUURdTZ84Rrdc10uh1at6MWLvstZq+hsfatzwa9W/e2e1bt5Ic58aq9Sjx/XW0lWO7V5Z8Inq1a6hGQ+NVMsmERp2fQ8NvvpKTZ3zvhej9w5XHy3VuNv7qX+3aLVu1lBzn/hXTh997djulYUrVK9WDc14cJirj67rpsF9r9DU1z/wXvBeMO3d1RrSo72G9e6klg1ra8a/+qhuzRDNXLKu0PqVK5bTy3dfo+H/10kNapXeYys3a62mv75I40beqP49L1PrFo0199nxrvPQks8d2zVqUEfTHxmlW67todBqpbevXOfpdzTujkHq3+uKfOdp5yu9rvP0WN1y3VWl+jzdrEqQrqwVrFYhQSrKgpc/HrY6YaWr6wSpdnmjViFB6lwzSOuSSvcog7VW02fO0bjRd6h/n55q3aqF5v7nOaUeOaq33vvQsd30Jx/V+LF3qlP7SDU9t5EeGTdG7SPb6INlzn8jILCRMJRCu/bsU/yBg4q5rJO7rGKF8rq0U6RiN/3sw8j8w669CYo/kKSYzhe4yypWKK9LO56v2O+3OrZbt/lXxXS+ME9Zt0su1Maff9OJE5nFFq8v7NqboPjEJMV0jnSXVaxQXpd2OF+xm391bLdu8zbFdG6Xp6xb50ht3LKz1PRRxolMbdq+TzEdmuUpj+nQTLE/e56yFSh27YlT/IFDirmkg7vMdZy1Vex3W3wYmX84/Xn6Jx9GVjLtTbNqWNGobK719JtUMkrNlJJP+DCwYrZr9x7FJxxQty6XussqVqygy6I7KXb9pjN6r9QjRxRavdrZDtH/Gfl+GhJTkkoOY0xlY8zHxpgfjDE/G2MGGGPaG2NWGWM2GWNWGGPqGmOqGWO2GWNa5LR72xgzzNfx5xa//5AkKTwsNE95eFio4g8c8kVIfiX+QJIkKTysep7y8JrVFZ+Y5NwuMUnhNfO1CauuzMwsJSYdPtth+lR8YrIkFfy+Nau5f1Z4u9P0UXLp6KPElGPKys5WeGiVPOXhoVUUn5Tqo6j8z8lzDeehwjmfp2vQP3/BkUypcnDesio5C8cfyfJ+PN4Sn3BAkhReKyxPee3aYYrff6DI7/PSq29o7754Dbr+mrMaH0oPEoZTekjaZ61tZ61tLWm5pBckXWutbS9pjqTJ1toUSXdJmmuMuUFSqLX21fxvZowZbozZaIzZeOBQcrEGPn/xp6raMsa9ncjMPBlDnnpWkgnAhxnOX/Klql5wrXs7bf94GPzO338nh7rzv1dJM/+jVara/kb35thH1vN3Ldgmp4+KNLGg5CiwL8iWuu94JuZ/sFJVW/dybycyXX+lFbY/lPTj5a+Yv3iFqrbs6t6cz0OB2T9nRYFjstDiEm3+Ox8opEEr93Yi0zV8UmCfOYPjbNGST3T/I1P031emqeE5Dc52yCgleHDbKT9JetYY85SkpZKSJLWW9FnOQRcsKU6SrLWfGWOuk/SSpHaFvZm1dpakWZLUoe15xTqBsk/MJYq64NTNb+kZGZJcV/gi6oW7y/cnJik8rEZxhuKX+nSJUlS7Fu7X6RmuE2z8gSRF1K3lLt9/MLnAqENudcJCC1xd338wRWXKBKtm9ZCzGrO39enSSVFtm7tfu/soMUkRdU9dudp/KEXhNZ2HrF19lHeUprT00Ulh1SopOChI8Yfy3lC4P+logVGHQNKn68WKimzpfp33PFTbXe46zkILtC/tXOfp892vT3+eDrz++buqlJGO5pv1ePJ1/pGHkqxPz66K6hDpfp2enrMf7T+giAb13OX7DxwsMOpQmEVLPtHgkWM17+Wp6tMr5qzHWzKYwLyaeoYYYchhrd0uqb1cicMTkvpL2mKtjczZ2lhru0mSMSZIUktJxyX5/C/wkCqV1LRRA/fWqllj1alVUytXb3DXSUtL15oNPyi6fWsfRuobIVUqqWnDeu6tVdNzVKdWqFau3eyuk5aeoTUbtyj6gpaO73NR5Hn6PFcbSVq59nt1aN1UZcuW7Nw7pHJFNW1Y1721ahqhOmGhWrn2B3edtPQMrdn0i6JPs3LNRZEt9Hnsj3nKVsb+oA7nNynxfXRSubJl1L55Pa3cuCNP+cpNOxTd+hwfReV7rvNQfffWqlkj1alVQyvXnJpH7TrOflL0heef5p1Kp5AqlR3O06dWpTl1nm7jw0hLpgYVjHYft8rMPnV97vdjViFlpOplfRjYWRYSUkVNz23k3lqd10x1wmvpsy/XuOukpaVp9boNiu7U/rTv9c7ipRo0Yoxef+lZXdu3V3GHjhKudPwGPwuMMfUkHbLW/tcYc0TScEm1jDHR1tpYY0xZSc2ttVskjZW0VdIESXNy6vjNbVXGGI2+7TpNefENtWjSUM3PjdDkF+apSqWKGti3m7vekLGTJEnznn/IXbZ5i+uPoNQjRxUUZLR5yw6VK1tGrZo39u6XKEbGGI0e3FdTZi5Ui3MbqHmjepr88kJX//S+3F1vyP3PSZLmPX2PJGnEDT310vylGjt5lobf0FPffPeL5i3+XPOfu88n36M4ufqot6a88p5anFvf1Ucz31OVShU0sPdl7npDxk+XJM17crQkacSA7nrprWUa+8RrGn59N33z/a+at/hLzX/2bp98j+Iy5rpLNeSJd9SxZYQ6t26oV5Z8q32JqRrxf1GSpAmvLteGrXv12dTb3W1++V+CMjKzlJhyTEeOZ2jzb/skSZFN6xX6GSWdMUajh/bXlP/MV4smEWreOEKTX/qv6zjrc6W73pB7npAkzXvu3+6yzb/8JinXeeiX31znoWaNvPodipPrPH29prw4L+c8fY4mvzA35zx96kpv4edp1xr7p87T21WubNlSdZ7OyLY65Lp4Lisp5YQUn2ZVMViqVtZo5YEs7UuTBke4hg/aVDVadVD6ID5bl9UM0sEMqzWHsnV5zaBSPcXLGKPRI2/VlKkv6bzmTdS8SWNNfvYFValcSQOv7euuN2Sk6xw8b+ZUSdKCRUs0eOTdembSBF12cSfFJ+yXJJUrV041Qqt7/XvA/5EwnNJG0jPGmGxJJyTdISlT0gxjTDW5+mqaMeaEpNsldbLWphpjvpb0oKRHfBR3oe4beZOOp6Vr1ENTlXQ4VVGRrbT8v88rpEold509+xIKtGvfa2ie10tXfqOGDero92/eK/aYvem+Yf11PD1dox57WUkpRxTVroWWz3ksb//E5b1hrHFEHS2d9ajueWK2Zr69TPVq19S0B4arf/fO3g7fK+677RodT8vQqEmvKunwEUW1bablsx9RSOWK7joF+qhBuJbOfFD3PPm6Zi5Yrnq1a2jahNvUv1u0t8MvVgO6tNWhw0c15c0vFHcoVa0bhWvpk7eoYR3XVJK4g6naue9gnja9x8/V7lzPaWg/7AVJUtaXT3gtbm+7b8QNrvPQIzOUlJKqqMiWWj7v6Xznof0F2rXvPTzP66Wfx6ph/XD9vvrtYo/Zmwo/T09TSJXK7jpndp5eVOwxe8u+NKt5e049rO2rg9n66qDUrqrR1XWDdSRTOpRxajShQrDRoIhgLUvI0qzdWaoYJEWHBik6tPQmCyfdP3qkjqel6a77HlJScoqi2kdqxaI3FRJyaorkH3v/zNPmldfnKzMzU2P//ZjG/vsxd/nlnaP05dKFXovdf5T+/eTvMqV5fWJ/0aHteXb90td8HYb/Skv2dQT+L8tvBrD8V4Lzcq+Q1DDK1xH4v+Dyvo7A7z3W7XLPlQLYI+t+83UIfi8otNEma20HzzW9o8P559r1b0/ydRhuwe1u9qv+OYl7GAAAAAA4YkoSAAAAApcfPzDNX9BDAAAAABwxwgAAAIDAVYpX0jpbGGEAAAAA4IiEAQAAAIAjpiQBAAAgQBlx/dwzeggAAACAIxIGAAAAAI6YkgQAAIDAxSpJHjHCAAAAAMARCQMAAAAAR0xJAgAAQGAyYkpSETDCAAAAAMARCQMAAAAARyQMAAAACFAnH9zmL1sRIjamhzFmmzHmN2PM+EJ+bowxM3J+/qMx5sIz65OCSBgAAACAEsAYEyzpJUk9JbWSdKMxplW+aj0lNcvZhkt6+e9+LgkDAAAAUDJ0kvSbtfZ3a22GpAWS+uar01fSG9ZlnaTqxpi6f+dDWSUJAAAAgatkrZJUX9KeXK/3SooqQp36kuL+6oeSMAAAAAD+IcwYszHX61nW2lm5XheW3dh8r4tS54yQMAAAACBw+dcIQ6K1tsNpfr5XUkSu1w0k7fsLdc4I9zAAAAAAJcMGSc2MMY2NMeUk3SBpSb46SyQNzlkt6SJJKdbavzwdSWKEAQAAACgRrLWZxpi7JK2QFCxpjrV2izFmZM7PZ0paJqmXpN8kHZM09O9+LgkDAAAAAljJmnBjrV0mV1KQu2xmrn9bSf88m59ZsnoIAAAAgFeRMAAAAABwxJQkAAAABCjjb6sk+SVGGAAAAAA4ImEAAAAA4IgpSQAAAAhchuvnnpAweMORRGnNLM/1AtWF/Xwdgf9b+ZKvI/B75qaZnisFMLt7ta9D8H+Z6b6OwO89su43X4fg1yZe1NTXIQDFgpQKAAAAgCNGGAAAABDAWCXJE0YYAAAAADgiYQAAAADgiClJAAAACExGPLitCBhhAAAAAOCIEQYAAAAEKMNzGIqAHgIAAADgiIQBAAAAgCOmJAEAACBgGW569ogRBgAAAACOSBgAAAAAOGJKEgAAAAIY1889oYcAAAAAOCJhAAAAAOCIKUkAAAAIUEZilSSPGGEAAAAA4IiEAQAAAIAjpiQBAAAgcDElySNGGAAAAAA4ImEAAAAA4IgpSQAAAAhgXD/3hB4CAAAA4IgRBgAAAAQmI256LgJGGAAAAAA4ImEAAAAA4IgpSQAAAAhQhilJRcAIAwAAAABHJAwAAAAAHDElCQAAAAGM6+ee0EMAAAAAHJEwlEIvf/armox5X5Vu+a86PrBUq39NcKz71S/xuvq5L1T/n++qytD5ihy/RHO+2uHFaH3DWquJL76tBpcNVeXI69Vl8APasuMPj+1Wrf9ZHfvfrUrtrlPTmBGauWC5F6L1jZdX71GTR9eo0t1fqOPT32r1ziTHur/EHdGVMzap7gNfq9LdX6jpxG/0wEe/KSMz24sRe5e1Vo8+NV31W12sSvXP1xV9BmrLr9tP2+b9j1aoe/8hqt28o6qe004XxfTXkk9Weili73v5nS/UpPd9qnTRMHUc+KhWf+fcP2npJzT0kdmKvP4hle90u7oMe9KLkfrGy+99pSZ9H1ClS+5Sx8FTtPp753NvWvoJDZ04V5EDJ6l89J3qMvI5L0bqO9ZaPfrk86rfspMq1W2hK3oP0Jatno6z5ereb5BqN71QVSPO10Vd+2rJss+8FLH37D5m9fbeLE3dmamJ2zK1OcXz+TYh3WruH5mavD1TU3dmalVitqy1XogWJR0JQymzMHaXxry5QeP7tNamyb0V3byWrnr6c/2ReKTQ+rE7DqhNRKje+dfl+vGpPhrRtYVGvrZOb33zu5cj965nZi/W1Nc/1PQHh+nbd55RrZrV1P22R5R69Lhjm117E9R75CRFX3CeNr0/VeOG9dfoya9q0adrvRi5dyz8Ll5jFm3X+G6Nten+KEWfW01XvbxZfxxKK7R+uTJBGhRVV8vvvEBbH4zW1H7NNWfdPj308U4vR+49T8+YpakvzdGMJx/W+pWLVTusprr1u0WpqYUfa5K0au16XXFptJa+PVvfffWhesZcrn6D79Tq2A1ejNw7Fq74VmOefUvjb+2tTW9NVHS7prpq1FT9EXew0PpZ2dmqUK6s7hxwpXpd0tbL0Xrfws82asxz72j80B7a9OYDim5zrq4a86L+iD9UaH13/1z3D/Xq3MbL0frO09NnaupLszXjqYla//kS1a4Vpm79bj79cfbNOtdxtnCOvlv1sXrGXKF+g0Zo9dr1Xoy8+GVkW9UuL/WoHaQyRVjkJz3L6s09WapcxmhYw2D1qB2ktYeyFZtEwiBj/GfzU6YkZ5bGmLXW2ot9HYcnHc4Ns+sfv8ornxX98DK1iaiuWcNOdUuLuxerf6eGmnLDhUV6jwEzVikr2+q9Mf8opijzubCfdz4nh7VWDS67Vf+8qZcmjLxOknQ8LV11Og/R0/cP1YgB3QttN/7ZeVr82TptW/Gyu2zYgy/ql9/26JsFTxVv0J+9WLzvn0/0c+vVpl4VzbqxlbusxaRv1L9duKb0aVqk97jn/e1a978UfXN3x+IKMw9z00yvfI7k2ofqn3+x/nnbID1wz52SpOPH0xTeIkrPPDZeI265scjvFdW1ny6J7qDnJk0ornAlSXb36mJ9//yiB09Sm2YNNOuhoe6yFn3HqX/XDpoy6rrTth315JvasvNPffHq+OIOM6/MdK99VPTQJ9WmaX3NemCQu6xF/4fUv8uFmvLPa07bdtQzb2vLzn36YuY9xR1mAaZZD699lrVW9Vt20j9vH6IH7r1LUs5x1ry9nnlsgkYMvanI7xV1ZV9dEt1Rzz3+YHGFK0maeFHRzo9n25TtmeoVHqTIas7XgTckZWtlYrbubRKsskGuP0y/PpitjcnZGntusIyX/liduC1zk7W2g1c+rAg6tD3Pblj6mq/DcAtqeIlf9c9JJXqEoSQkC96UkZmlTbsOKqZtvTzlMW3qKXbHgSK/z+HjJxRaudzZDs9v7NqboPjEJMV0jnSXVaxQXpd2OF+x3//q2G7d5m152khSt0su0MYtv+nEicxiitb7MjKztWlPqmLOq5mnPKZFTcXuSi7Se/x24JhWbD2oy5pWP/sB+oFdu/coPuGAul1xibusYsUKuuzijopd/90ZvVfqkaMKrVbtbIfoUxknMrVp6/8Uc1HrPOUxF7VW7A+ld9SpqDJOZGrTr38oJqpVnvKYqFaK/bF0j+6eCfdx1uVSd1nFihV0WXQnxa7fdEbvlXrkiEKrl67j7EztTbNqWNG4kwVJalLJKDVTSj7hw8BQIpTohMEYcyTnv/8wxnxljHnPGPOrMWa+yUmVjTEdjTFrjTE/GGPWG2NCjDEVjDGvG2N+MsZ8b4y5IqfuLcaYD4wxHxljdhlj7jLG3J1TZ50xpkZOvSbGmOXGmE3GmNXGmPN81wunJKamKyvbKrxqxTzl4dUqKD7FeapNbku/26svtsRpWJfmxRGiX4hPTJYkhdesnqc8PKy64hOd5+nHJyYXbFOzujIzs5SYdPgsR+k7iUdPuPajkLxJY3hIOcWnZpy27SVTN6jS3V+oxaS16tykuib39s3VtuIWvz9RkhReOyxPee1aYYrfX/Tk/KXZb2rvvngNGnD12QzP5xKTU5WVla3wGlXzlIfXrKr4gyk+isp/JCYfKbx/alRV/MHScy75u+ITXMdSeK18x1ntMzzOXn3DdZxdf/qRm9LuSKZUOThvWZWctTKPZHk/Hv9hJBPkP5uf8t/IztwFksZIaiXpXEmdjTHlJC2UNNpa205SV0nHJf1Tkqy1bSTdKGmeMaZCzvu0ljRQUidJkyUds9ZeIClW0uCcOrMkjbLWtpd0r6T/5A/GGDPcGLPRGLPxQGrh876LS/5RRWulogw0frNtv25+abWmDe6kTk3CPDcoIeZ/tEpV29/g3k6OBhTsJ+txSLawNq5y/513+FcV+K7yvB+9PbSNNt7XSf8d0lqfbEnU0yv/V0zRedf8dz9UyDlt3duJE67LcQX+txdhHzpp0ZLluv/Rp/TfV55Tw4j6Zzli/5C/L1zHmI+C8UOFn4N8E4s/mP/OBwpp0Mq9ncg8eZwV/KVW9OPsE93/yBT995VpanhOg7MdcslTyHm9kGKggNL0HIb11tq9kmSM2SypkaQUSXHW2g2SZK09nPPzSyS9kFP2qzFmt6STl9S/tNamSko1xqRI+iin/CdJbY0xVSRdLOndXCes8vmDsdbOkiuxUIdzw7xyo0hYSHkFB5kCown7D6cpvFpFh1Yua7YlqPfTX2jite10R9cWxRmm1/Xp0klRbU+NmKRnuH4JxScmK6JuLXf5/oMpBUYQcqsTVt09OuFucyhFZcoEq2b1kLMasy+FVS7r2o8O5x1N2J+aUWDUIb+IUFfe3apuFWVlWw1/e6vuvbKhygSX7GsTfXpcqaj27dyv0zNcfROfkKiI+qemAO5PPFjgamhhFi1ZrsF33qt5/3lGfXp2PfsB+1hY9RAFBwcVGE3YfyhV4TUCe1qIJIVVr5LTP3lHE/YnpRYYdQgkfXp2VVSHSPfr9PSc42z/AUU0yHWcHSjqcfaJBo8cq3kvT1WfXjFnPd6SpkoZ6Wi+2bMnX+cfeQDyK9m/xfPKfbdallzJkNGpBDq30yXTud8nO9fr7Jz3DJKUbK2NzLW1/Othnz3lygSrfeOaWvlTXJ7ylT/vU3SzWg6tpK+3Juiqpz/Xw/3aanTPVo71SqqQyhXVtGFd99aqaYTqhIVq5drN7jpp6Rlas+kXRV/gPLvsosgW+jz2hzxlK9duVofzm6ps2dKTe5crE6T2ESFauS3vai0rtx1SdOPqRX6fbGuVmW2VVQpWVg0JqaKm5zZyb61aNFOd8Fr67Ks17jppaelaHbtB0Z1Ov7jAOx98rEF33KPXX3xK1/bpWdyh+0S5smXUvmUjrVy3JU/5ym+3KLpdEx9F5T/KlS2j9uedo5Xrt+YpX/ntVkW3PddHUflegePsvJzj7Mvcx1maVq/boOhO7U/7Xu8sXqpBI8bo9Zee1bV9exV36CVCgwpGu4+7zssn/X7MKqSMVL2sDwPzC8aPNv9UmhKGwvwqqZ4xpqMk5dy/UEbS15JuyilrLukcSduK8oY5oxS7jDHX5bQ3xph2Hpp5zZieLTXv652a/eUObf0zWWPeWK99Scc14krXFfYJC75TzJRP3fW/+iVeVz3zuUZc2VwDO5+r+OTjik8+rgOHvTuNypuMMRo9+P/01Kvv6/1PY/Xz9t0a+u8ZqlKpggb2vsxdb8i4aRoybpr79YgbemhvwkGNnTJbW3fu0ex3P9O8D77U3bf29cG3KF5jrjhH877dp9lr/9TW+KMas2ib9qWka8QlrqkzE5b8ppgXT910+Ob6OL37fYJ+TTiq3xOP6Z3vEvTARzvVP7K2ypctfacZY4xGj7hFT01/Re9/tEI/b92uoXfdryqVK2tg//9z1xtyx70acse97tcL3l+qm0fcoycevk+XRXdSfMIBxScc0KGkZB98i+I15qZumvfRGs1evEpbf9+nMc/M174DyRrR/wpJ0oQX3lXMiKfztPnl9z+1edsfSkw+oiPH0rV52x/avM3z81FKojEDu2re0ljN/mCNtu6K05jnFmpfYopG9HOdgya8tFgxdz6fp80vv+/T5u17lJh81NU/2/do8/Y9vgjfK4wxGj3yVj01/WW9/9Fy/fzLNg29815VqVxJA689dd4dMvJuDRl5t/v1gkVLdPPwMXrikXG67OJOik/Yr/iE/aXuOMvItopPc21WUsoJKT7NKuWEKyFYeSBLb+w5dXNCm6pGZY30QXy29qdbbU3N1ppD2booNKhUTqvF2VV6LosWwlqbYYwZIOkFY0xFue5f6CrXPQczjTE/ScqUdIu1Nv0MDpibJL1sjHlQUllJCyT9cPom3jEgurEOHUnXlA9+VFzycbVuUF1L77tSDWtVkSTFJR/XzoRUd/15X+/UsfRMPffxL3ru41/c5Q3DKuv36f29Hr+33Hf7NTqenq5Rk2Yp6fARRbVtruWzH1VI5VNTt/bE5b2prnGDcC2d+ZDueXKOZi5Yrnq1a2jahNvVv1vpW6xrwIV1dOjoCU35dJfiUtLVum4VLR0ZqYY1XP0TdzhdOxNPTX0rE2z01Gf/044Dx2St1LBGBd15aQON+cc5vvoKxe7+fw3X8bQ03TXuUSUlpyiqfTutWDRXISFV3HX++HNfnjavzH1LmZmZGjvhcY2d8Li7/PLOnfTlkre8Frs3DOgepUMpRzVl9keKS0xR6yb1tXTGWDWs55pKEpeYop179+dp03vU89qd6zkN7W98RJKU9d3r3gvcSwbEdNChlCOa8voyxSUeVusm9bT0+bvUsK5rdbK4xBTt/DPvOaj32Be1O+7UyF/7mydLkrLWe29JYW+7f/RI13F230M5x1mkVix6M+9xtvfPPG1eeX2+6zj792Ma++/H3OWXd47Sl0sXei324rYvzWrenlNDuF8dzNZXB6V2VY2urhusI5nSoYxTowkVgo0GRQRrWUKWZu3OUsUgKTo0SNGhJAsBffNQEZXo5zCUFN58DkOJ5OXnMJRIXn4OQ0nkzecwlETefg5DieTF5zCUVN58DkNJ5KvnMJQk/vcchpZ2w7K5vg7DLSjiIr/qn5NK31wBAAAAAGdNqZ6SBAAAADgy8uvnH/gLeggAAACAIxIGAAAAAI6YkgQAAIAAZVglqQgYYQAAAADgiIQBAAAAgCOmJAEAACCAMSXJE0YYAAAAADgiYQAAAADgiClJAAAACFw8uM0jeggAAACAIxIGAAAAAI6YkgQAAIAAxipJnjDCAAAAAMARIwwAAAAIUEYyjDB4wggDAAAAAEckDAAAAAAcMSUJAAAAAYwpSZ4wwgAAAADAEQkDAAAAAEdMSQIAAEDgYpUkjxhhAAAAAOCIhAEAAACAIxIGAAAAAI5IGAAAAAA4ImEAAAAA4IhVkgAAABCYjFglqQgYYQAAAADgiIQBAAAAgCOmJHnBpl0HE4NvemO3r+PIJ0xSoq+DcHnD1wEUxo/6x2/5Vx/9q6mvI8jPv/rHP9FHp0f/eEYfeeZvfdTQ1wEUxJQkT0gYvMBaW8vXMeRnjNlore3g6zj8Ff3jGX10evSPZ/TR6dE/ntFHntFHOBtIGAAAABCgDDc9FwH3MAAAAABwRMIQuGb5OgA/R/94Rh+dHv3jGX10evSPZ/SRZ/QR/jZjrfV1DAAAAIDXdYhsbTd89q6vw3ALqt1qkz/ec8IIAwAAAABHJAwAAAAAHLFKEgAAAAIXqyR5xAgDAAAAAEckDAAAAAAcMSUJAAAAAYwpSZ4wwgAAAADAEQkDAAAAAEdMSQIAAEDgYpUkjxhhAAAAAOCIhAEAAACAI6YkAQAAIEAZsUqSZ4wwAAAAAHDECAMAAAACFzc9e8QIAwAAAABHJAwAAAAAHDElCQAAAAGMKUmeMMIAAAAAwBEJAwAAAABHJAwAAAAAHJEwAAAAACWcMaaGMeYzY8yOnP+GFlInwhjzpTFmqzFmizFmdFHem4QBAAAAKPnGS/rcWttM0uc5r/PLlHSPtbalpIsk/dMY08rTG7NKEgAAAAKTkUzpeXBbX0n/yPn3PElfSRqXu4K1Nk5SXM6/U40xWyXVl/TL6d6YhAEAAADwD2HGmI25Xs+y1s4qYtvwnIRA1to4Y0zt01U2xjSSdIGkbz29MQkDAAAA4B8SrbUdnH5ojFkpqU4hP3rgTD7EGFNF0iJJY6y1hz3VJ2EAAABAACs5U5KstV2dfmaMSTDG1M0ZXagrab9DvbJyJQvzrbXvF+VzuekZAAAAKPmWSBqS8+8hkj7MX8G4bth4TdJWa+3Uor4xCQMAAABQ8j0pKcYYs0NSTM5rGWPqGWOW5dTpLGmQpC7GmM05Wy9Pb8yUJAAAAAQoI5WSVZKstQclXVlI+T5JvXL+vUZ/YQ4WIwwAAAAAHDHCAAAAgABWOkYYihMjDAAAAAAckTAAAAAAcMSUJAAAAASuUnLTc3FihAEAAACAIxIGAAAAAI6YkgQAAIAAxpQkTxhhAAAAAOCIhAEAAACAI6YkAQAAIHCxSpJHjDAAAAAAcETCAAAAAMARU5IAAAAQoIxYJckzRhgAAAAAOCJhAAAAAOCIKUkAAAAITEasklQEjDAAAAAAcMQIAwAAAAIYIwyeMMIAAAAAwBEJAwAAAABHTEkCAABA4GJGkkeMMAAAAABwRMIAAAAAwBFTkgAAABDAmJPkCSMMAAAAAByRMAAAAABwxJQkAAAABC7DlCRPGGEAAAAA4IiEAQAAAIAjpiQBAAAgQBmxSpJnjDAAAAAAcETCAAAAAMARU5IAAAAQuFglySNGGAAAAAA4YoQBAAAAAYwRBk8YYQAAAADgiIQBAAAAgCNjrfV1DAAAAIDXGWOWSwrzdRy5JFpre/g6iPxIGAAAAAA4YkoSAAAAAEckDAAAAAAckTAAAAAAcETCAAAAAMARCQMAAAAAR/8PukHUj0aEeBIAAAAASUVORK5CYII=\n",
      "text/plain": [
       "<Figure size 936x936 with 2 Axes>"
      ]
     },
     "metadata": {
      "needs_background": "light"
     },
     "output_type": "display_data"
    }
   ],
   "source": [
    "# Variable correlation visualization\n",
    "rcParams['figure.figsize'] = 13, 13\n",
    "plt.matshow(census_for_correlation.corr(), cmap=\"Oranges\")\n",
    "plt.colorbar()\n",
    "plt.xticks(np.arange(len(census_for_correlation.corr().columns)), census_for_correlation.corr().columns.values, rotation = 45) \n",
    "plt.yticks(np.arange(len(census_for_correlation.corr().columns)), census_for_correlation.corr().columns.values) \n",
    "for (i, j), corr in np.ndenumerate(census_for_correlation.corr()):\n",
    "    plt.text(j, i, '{:0.1f}'.format(corr), ha='center', va='center', color='black', fontsize=14)\n",
    "var = plt.title('Correlation Matrix of the cleaned dataset')"
   ]
  },
  {
   "cell_type": "code",
   "execution_count": 8,
   "id": "6b137c51",
   "metadata": {},
   "outputs": [
    {
     "data": {
      "text/html": [
       "<script>\n",
       "code_show=true; \n",
       "function code_toggle() {\n",
       " if (code_show){\n",
       " $('div.input').hide();\n",
       " } else {\n",
       " $('div.input').show();\n",
       " }\n",
       " code_show = !code_show\n",
       "} \n",
       "$( document ).ready(code_toggle);\n",
       "</script>\n",
       "<form action=\"javascript:code_toggle()\"><input type=\"submit\" value=\"Show/hide code\"></form>"
      ],
      "text/plain": [
       "<IPython.core.display.HTML object>"
      ]
     },
     "execution_count": 8,
     "metadata": {},
     "output_type": "execute_result"
    }
   ],
   "source": [
    "HTML('''<script>\n",
    "code_show=true; \n",
    "function code_toggle() {\n",
    " if (code_show){\n",
    " $('div.input').hide();\n",
    " } else {\n",
    " $('div.input').show();\n",
    " }\n",
    " code_show = !code_show\n",
    "} \n",
    "$( document ).ready(code_toggle);\n",
    "</script>\n",
    "<form action=\"javascript:code_toggle()\"><input type=\"submit\" value=\"Show/hide code\"></form>''')"
   ]
  },
  {
   "cell_type": "markdown",
   "id": "1383be00",
   "metadata": {},
   "source": [
    "### K-nearest neighbors visualization\n",
    "\n",
    "Considering that education and age are correlated with income, it is worthwhile to visualize the relationship between the two variables and our target. In the following figure, the purple region indicates an income of less than $50,000 per year, while the yellow region indicates an income of greater than $50,000 per year.\n",
    "\n",
    "One important note is that the education variable is *not* a representation of years of schooling. The data are scaled such that a value of '9' represents a high school graduate, 12 is a Bachelor's degree, and 16 is a Doctorate.\n",
    "\n",
    "The \"sweet spot\" in our data where individuals are most likely to make greater than $50,000 is therefore when age is between 30 and 70, and educational attainment is greater than 12 (i.e. a Bachelor's degree or higher)."
   ]
  },
  {
   "cell_type": "code",
   "execution_count": 9,
   "id": "5cea39b1",
   "metadata": {},
   "outputs": [
    {
     "data": {
      "image/png": "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\n",
      "text/plain": [
       "<Figure size 792x504 with 1 Axes>"
      ]
     },
     "metadata": {
      "needs_background": "light"
     },
     "output_type": "display_data"
    }
   ],
   "source": [
    "from matplotlib.colors import ListedColormap\n",
    "from sklearn import neighbors\n",
    "import warnings\n",
    "warnings.filterwarnings(\"ignore\")\n",
    "rcParams['figure.figsize'] = 11, 7\n",
    "\n",
    "n_neighbors = 100\n",
    "\n",
    "h = .1\n",
    "\n",
    "# Split into training and test\n",
    "X_train2, X_test2, y_train2, y_test2 = train_test_split(X_neigh, y, test_size=0.2)\n",
    "\n",
    "for weights in ['uniform', 'distance']:\n",
    "    clf3 = neighbors.KNeighborsClassifier(n_neighbors, weights=weights)\n",
    "    clf3.fit(X_train2, y_train2)\n",
    "    \n",
    "# Plot the decision boundary using the scikit-learn suggested method\n",
    "x_min, x_max = X_neigh.iloc[:, 0].min() - 1, X_neigh.iloc[:, 0].max() + 1\n",
    "y_min, y_max = X_neigh.iloc[:, 1].min() - 1, X_neigh.iloc[:, 1].max() + 1\n",
    "xx, yy = np.meshgrid(np.arange(x_min, x_max, h),\n",
    "                             np.arange(y_min, y_max, h))\n",
    "Z = clf3.predict(np.c_[xx.ravel(), yy.ravel()])\n",
    "\n",
    "# Make it beautiful\n",
    "Z = Z.reshape(xx.shape)\n",
    "fig = plt.figure()\n",
    "plt.pcolormesh(xx, yy, Z, cmap=\"viridis\")\n",
    "plt.title(\"K-nearest neighbors income visualization (k = %i)\" % (n_neighbors))\n",
    "plt.xlabel(\"Age\")\n",
    "plt.ylabel(\"Educational attainment\")\n",
    "plt.show()\n",
    "\n"
   ]
  },
  {
   "cell_type": "markdown",
   "id": "ef19c3bf",
   "metadata": {},
   "source": [
    "## Building a predictive model\n",
    "\n",
    "The RandomForestClassifier model was eventually chosen due to its favorable combination of accuracy and speed. The LinearSVC model was slightly less accurate and an order of magnitude slower.\n"
   ]
  },
  {
   "cell_type": "code",
   "execution_count": 10,
   "id": "6c15bca3",
   "metadata": {},
   "outputs": [],
   "source": [
    "## Uncomment this box to test LinearSVC\n",
    "\n",
    "## from sklearn.svm import LinearSVC\n",
    "## clf = LinearSVC(max_iter=20000)\n",
    "## clf.fit(X_train, y_train)\n",
    "## clf.score(X_test, y_test)"
   ]
  },
  {
   "cell_type": "code",
   "execution_count": 11,
   "id": "0e5c3f12",
   "metadata": {},
   "outputs": [
    {
     "name": "stdout",
     "output_type": "stream",
     "text": [
      "The current model is 80.05% accurate.\n"
     ]
    }
   ],
   "source": [
    "from sklearn.ensemble import RandomForestClassifier\n",
    "\n",
    "# Instantiate RFC\n",
    "clf2 = RandomForestClassifier()\n",
    "clf2.fit(X_train, y_train)\n",
    "\n",
    "#Evaluate\n",
    "score = clf2.score(X_test, y_test)\n",
    "score = score*100\n",
    "print(f'The current model is {score:.2f}% accurate.')"
   ]
  },
  {
   "cell_type": "markdown",
   "id": "6d75d111",
   "metadata": {},
   "source": [
    "### Make a prediction here!"
   ]
  },
  {
   "cell_type": "markdown",
   "id": "85848594",
   "metadata": {},
   "source": [
    "<a id='prediction'></a>"
   ]
  },
  {
   "cell_type": "code",
   "execution_count": 12,
   "id": "21ac2786",
   "metadata": {},
   "outputs": [],
   "source": [
    "import ipywidgets as widgets"
   ]
  },
  {
   "cell_type": "code",
   "execution_count": 13,
   "id": "09600a3a",
   "metadata": {},
   "outputs": [
    {
     "data": {
      "application/vnd.jupyter.widget-view+json": {
       "model_id": "750e7bc2dfb54cd49ed843df29221e3e",
       "version_major": 2,
       "version_minor": 0
      },
      "text/plain": [
       "IntSlider(value=20, continuous_update=False, description='Age:', max=72, min=18, style=SliderStyle(description…"
      ]
     },
     "metadata": {},
     "output_type": "display_data"
    }
   ],
   "source": [
    "style = {'description_width': 'initial'}\n",
    "ageslider = widgets.IntSlider(\n",
    "    value=20,\n",
    "    min=18,\n",
    "    max=72,\n",
    "    step=1,\n",
    "    description='Age:',\n",
    "    disabled=False,\n",
    "    continuous_update=False,\n",
    "    orientation='horizontal',\n",
    "    readout=True,\n",
    "    readout_format='d',\n",
    "    style=style\n",
    ")\n",
    "\n",
    "ageslider"
   ]
  },
  {
   "cell_type": "code",
   "execution_count": 14,
   "id": "09f4f771",
   "metadata": {},
   "outputs": [
    {
     "data": {
      "application/vnd.jupyter.widget-view+json": {
       "model_id": "cfbd598fcd294905a8049ffe633bdeb3",
       "version_major": 2,
       "version_minor": 0
      },
      "text/plain": [
       "Dropdown(description='Education:', options=(('Preschool', 1), ('1st-4th', 2), ('5th-6th', 3), ('7th-8th', 4), …"
      ]
     },
     "metadata": {},
     "output_type": "display_data"
    }
   ],
   "source": [
    "educationselection = widgets.Dropdown(\n",
    "    options=[('Preschool', 1), ('1st-4th', 2), ('5th-6th', 3), ('7th-8th', 4), ('9th', 5), ('10th', 6),\n",
    "            ('11th', 7), ('12th', 8), ('HS Grad', 9), ('Some college', 10),\n",
    "            ('Vocational Associates', 11), ('Academic Associates', 12),\n",
    "            ('Bachelors', 13), ('Masters', 14), ('Professional Schooling', 15), ('Doctorate', 16)],\n",
    "    value=1,\n",
    "    description='Education:',\n",
    "    style=style\n",
    ")\n",
    "educationselection"
   ]
  },
  {
   "cell_type": "code",
   "execution_count": 15,
   "id": "aeef77e8",
   "metadata": {},
   "outputs": [],
   "source": [
    "maritaloptions = census['marital.status'].unique()"
   ]
  },
  {
   "cell_type": "code",
   "execution_count": 16,
   "id": "e5461605",
   "metadata": {},
   "outputs": [
    {
     "data": {
      "application/vnd.jupyter.widget-view+json": {
       "model_id": "31d81480329a4b998040c3a387c201cc",
       "version_major": 2,
       "version_minor": 0
      },
      "text/plain": [
       "Dropdown(description='Marital Status:', layout=Layout(width='max-content'), options=('Widowed', 'Divorced', 'S…"
      ]
     },
     "metadata": {},
     "output_type": "display_data"
    }
   ],
   "source": [
    "maritalselection = widgets.Dropdown(\n",
    "    options=maritaloptions,\n",
    "    description='Marital Status:',\n",
    "    layout={'width': 'max-content'},\n",
    "    style=style\n",
    ")\n",
    "maritalselection"
   ]
  },
  {
   "cell_type": "code",
   "execution_count": 17,
   "id": "a9881f94",
   "metadata": {},
   "outputs": [
    {
     "data": {
      "application/vnd.jupyter.widget-view+json": {
       "model_id": "9c911d4879a44b51b5cc723f2bc4f0d5",
       "version_major": 2,
       "version_minor": 0
      },
      "text/plain": [
       "Dropdown(description='Occupation:', layout=Layout(width='max-content'), options=('Exec-managerial', 'Machine-o…"
      ]
     },
     "metadata": {},
     "output_type": "display_data"
    }
   ],
   "source": [
    "occupationoptions = census['occupation'].unique()\n",
    "occupationselection = widgets.Dropdown(\n",
    "    options=occupationoptions,\n",
    "    description='Occupation:',\n",
    "    layout={'width': 'max-content'},\n",
    "    style=style\n",
    ")\n",
    "occupationselection"
   ]
  },
  {
   "cell_type": "code",
   "execution_count": 18,
   "id": "1ee5a9b1",
   "metadata": {},
   "outputs": [
    {
     "data": {
      "application/vnd.jupyter.widget-view+json": {
       "model_id": "c56a29c7d93e44b8bbd2cc1fcc337a74",
       "version_major": 2,
       "version_minor": 0
      },
      "text/plain": [
       "Dropdown(description='Race:', layout=Layout(width='max-content'), options=('White', 'Black', 'Asian-Pac-Island…"
      ]
     },
     "metadata": {},
     "output_type": "display_data"
    }
   ],
   "source": [
    "raceoptions = census['race'].unique()\n",
    "raceselection = widgets.Dropdown(\n",
    "    options=raceoptions,\n",
    "    description='Race:',\n",
    "    layout={'width': 'max-content'},\n",
    "    style=style\n",
    ")\n",
    "raceselection"
   ]
  },
  {
   "cell_type": "code",
   "execution_count": 19,
   "id": "ee2fc4ab",
   "metadata": {},
   "outputs": [
    {
     "data": {
      "application/vnd.jupyter.widget-view+json": {
       "model_id": "91c58881b09148fc9d58afc92a5a05ea",
       "version_major": 2,
       "version_minor": 0
      },
      "text/plain": [
       "Dropdown(description='Sex:', layout=Layout(width='max-content'), options=(('Male', 0), ('Female', 1)), style=D…"
      ]
     },
     "metadata": {},
     "output_type": "display_data"
    }
   ],
   "source": [
    "sexselection = widgets.Dropdown(\n",
    "    options=[('Male', 0), ('Female', 1)],\n",
    "    description='Sex:',\n",
    "    layout={'width': 'max-content'},\n",
    "    style=style\n",
    ")\n",
    "sexselection"
   ]
  },
  {
   "cell_type": "code",
   "execution_count": 46,
   "id": "51dc5921",
   "metadata": {},
   "outputs": [
    {
     "data": {
      "application/vnd.jupyter.widget-view+json": {
       "model_id": "bef9870ad7704b79b95d95f87bd894d1",
       "version_major": 2,
       "version_minor": 0
      },
      "text/plain": [
       "Button(description='Run model', style=ButtonStyle())"
      ]
     },
     "metadata": {},
     "output_type": "display_data"
    },
    {
     "data": {
      "application/vnd.jupyter.widget-view+json": {
       "model_id": "24be213acba64e9a9c295a3996afb828",
       "version_major": 2,
       "version_minor": 0
      },
      "text/plain": [
       "Output()"
      ]
     },
     "metadata": {},
     "output_type": "display_data"
    }
   ],
   "source": [
    "from IPython.display import display\n",
    "button = widgets.Button(description=\"Run model\")\n",
    "output = widgets.Output()\n",
    "\n",
    "display(button, output)\n",
    "\n",
    "def on_button_clicked(b):\n",
    "    #Clear any previous results\n",
    "    output.clear_output()\n",
    "    \n",
    "    #set variables\n",
    "    pred_age = ageslider.value\n",
    "    pred_ed = educationselection.value\n",
    "    pred_mar = maritalselection.value\n",
    "    pred_occ = occupationselection.value\n",
    "    pred_race = raceselection.value\n",
    "    pred_sex = sexselection.value\n",
    "    \n",
    "    #Use model to make a new prediction\n",
    "    testing = pd.DataFrame({'age': [pred_age], 'education.num': [pred_ed], 'marital.status': [pred_mar], 'occupation': [pred_occ], 'race': [pred_race], 'sex': [pred_sex]})\n",
    "\n",
    "    #reusing the already trained label encoders from before\n",
    "    testingforlog = testing.copy()\n",
    "    testing['marital.status'] = maritalle.transform(testing['marital.status'])\n",
    "    testing['occupation'] = occle.transform(testing['occupation'])\n",
    "    testing['race'] = racele.transform(testing['race'])\n",
    "    result = clf2.predict(testing)\n",
    "    #log each query\n",
    "    dateTimeObj = datetime.now()\n",
    "    timestampStr = dateTimeObj.strftime(\"%d-%b-%Y (%H:%M:%S.%f)\")\n",
    "    logdf = pd.DataFrame({'Date': [timestampStr],\n",
    "                   'Data': [testingforlog],\n",
    "                   'Result': [result]})\n",
    "    logdf.to_csv('logs.csv', mode='a')\n",
    "    #output result\n",
    "    with output:\n",
    "        if result == 0:\n",
    "            print(\"The individual is predicted to make less than or equal to $50,000 per year.\")\n",
    "        else: print(\"The individual is predicted to make greater than $50,000 per year.\")\n",
    "\n",
    "button.on_click(on_button_clicked)"
   ]
  },
  {
   "cell_type": "markdown",
   "id": "be990e3c",
   "metadata": {},
   "source": [
    "<a id='evaluation'></a>"
   ]
  },
  {
   "cell_type": "markdown",
   "id": "40c3e405",
   "metadata": {},
   "source": [
    "## Evaluating our model - more than accuracy\n",
    "\n",
    "### Cross Validation"
   ]
  },
  {
   "cell_type": "markdown",
   "id": "769889e5",
   "metadata": {},
   "source": [
    "While our model's accuracy score as compared to the test data is valuable, there are other metrics to examine. We can also *cross-validate* the data. This method of scoring trains the model several times on separate segments of our original data. In other words, would our model still perform just as well if we had selected different records for the training and test data? Ideally, the cross-validation score will not be too different from our accuracy metric."
   ]
  },
  {
   "cell_type": "code",
   "execution_count": 22,
   "id": "eba5f838",
   "metadata": {},
   "outputs": [
    {
     "name": "stdout",
     "output_type": "stream",
     "text": [
      "Income Classifier Cross-Validated Accuracy: 80.19%\n"
     ]
    }
   ],
   "source": [
    "from sklearn.model_selection import cross_val_score\n",
    "\n",
    "cross_val_score = cross_val_score(clf2, X, y)\n",
    "\n",
    "print(f\"Income Classifier Cross-Validated Accuracy: {np.mean(cross_val_score) *100:.2f}%\")"
   ]
  },
  {
   "cell_type": "markdown",
   "id": "1f89f6c0",
   "metadata": {},
   "source": [
    "### Area under the receiver operating characteristic curve (AUC/ROC)\n",
    "\n",
    "Comparison of our model's true positive rate vs false positive rate (TPR vs. FPR). A score of 1 is ideal, while random guessing would result in a score of 0.5.\n",
    "\n",
    "\n"
   ]
  },
  {
   "cell_type": "code",
   "execution_count": 23,
   "id": "64b27a45",
   "metadata": {},
   "outputs": [],
   "source": [
    "from sklearn.metrics import roc_curve\n",
    "\n",
    "# Make predictions with probabilities\n",
    "y_probs = clf2.predict_proba(X_test)\n",
    "#Slice only column 1 of every row - indicating over 50K\n",
    "y_probs_positive = y_probs[:, 1]\n",
    "#Calculate fpr, tpr, and thresholds\n",
    "fpr, tpr, thresholds = roc_curve(y_test, y_probs_positive)\n",
    "\n"
   ]
  },
  {
   "cell_type": "code",
   "execution_count": 24,
   "id": "99cf796a",
   "metadata": {},
   "outputs": [
    {
     "name": "stdout",
     "output_type": "stream",
     "text": [
      "The area under the ROC curve for this model is: 0.84\n"
     ]
    }
   ],
   "source": [
    "from sklearn.metrics import roc_auc_score\n",
    "\n",
    "area = roc_auc_score(y_test, y_probs_positive)\n",
    "from sklearn.metrics import roc_auc_score\n",
    "\n",
    "area = roc_auc_score(y_test, y_probs_positive)\n",
    "print(f\"The area under the ROC curve for this model is: {area:.2f}\")"
   ]
  },
  {
   "cell_type": "code",
   "execution_count": 25,
   "id": "ea55a5cd",
   "metadata": {},
   "outputs": [
    {
     "data": {
      "image/png": "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\n",
      "text/plain": [
       "<Figure size 720x720 with 1 Axes>"
      ]
     },
     "metadata": {
      "needs_background": "light"
     },
     "output_type": "display_data"
    }
   ],
   "source": [
    "# Create a function for plotting ROC curves\n",
    "\n",
    "rcParams['figure.figsize'] = 10, 10\n",
    "\n",
    "def do_roc_curve(falsepos, truepos):\n",
    "    \"\"\"\n",
    "    Use the false positive rate (falsepos) and true positive rate (tpr) to plot an ROC curve\n",
    "    \"\"\"\n",
    "    plt.plot(falsepos, truepos, color=\"purple\", label=\"ROC\")\n",
    "    plt.plot([0, 1], [0, 1], color=\"darkred\", linestyle=\"--\", label=\"Random Guessing\")\n",
    "    \n",
    "    plt.xlabel(\"False positive rate\")\n",
    "    plt.ylabel(\"True positive rate\")\n",
    "    plt.title(\"Receiver Operating Characteristic (ROC) Curve\")\n",
    "    plt.legend()\n",
    "    plt.show()\n",
    "    \n",
    "do_roc_curve(fpr, tpr)"
   ]
  },
  {
   "cell_type": "code",
   "execution_count": 26,
   "id": "3774ec8a",
   "metadata": {},
   "outputs": [
    {
     "data": {
      "text/html": [
       "<script>\n",
       "code_show=true; \n",
       "function code_toggle() {\n",
       " if (code_show){\n",
       " $('div.input').hide();\n",
       " } else {\n",
       " $('div.input').show();\n",
       " }\n",
       " code_show = !code_show\n",
       "} \n",
       "$( document ).ready(code_toggle);\n",
       "</script>\n",
       "<form action=\"javascript:code_toggle()\"><input type=\"submit\" value=\"Show/hide code\"></form>"
      ],
      "text/plain": [
       "<IPython.core.display.HTML object>"
      ]
     },
     "execution_count": 26,
     "metadata": {},
     "output_type": "execute_result"
    }
   ],
   "source": [
    "HTML('''<script>\n",
    "code_show=true; \n",
    "function code_toggle() {\n",
    " if (code_show){\n",
    " $('div.input').hide();\n",
    " } else {\n",
    " $('div.input').show();\n",
    " }\n",
    " code_show = !code_show\n",
    "} \n",
    "$( document ).ready(code_toggle);\n",
    "</script>\n",
    "<form action=\"javascript:code_toggle()\"><input type=\"submit\" value=\"Show/hide code\"></form>''')"
   ]
  },
  {
   "cell_type": "markdown",
   "id": "3bc5ebb2",
   "metadata": {},
   "source": [
    "## Confusion Matrix\n",
    "\n",
    "The confusion matrix compares our model's predictions against the actual outcomes based on the test set.\n",
    "\n",
    "Ideally, the largest numbers would be in the upper left and lower right quadrants, with smaller numbers in the upper right (false positive) and lower left (false negative) quadrants."
   ]
  },
  {
   "cell_type": "code",
   "execution_count": 27,
   "id": "7a47f005",
   "metadata": {},
   "outputs": [
    {
     "data": {
      "image/png": "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\n",
      "text/plain": [
       "<Figure size 216x216 with 1 Axes>"
      ]
     },
     "metadata": {},
     "output_type": "display_data"
    }
   ],
   "source": [
    "from sklearn.metrics import confusion_matrix\n",
    "\n",
    "y_preds = clf2.predict(X_test)\n",
    "\n",
    "# Set the font scale\n",
    "sns.set(font_scale=1.5)\n",
    "\n",
    "# Create a confusion matrix\n",
    "conf_mat = confusion_matrix(y_test, y_preds)\n",
    "\n",
    "\n",
    "def plot_conf_mat(conf_mat):\n",
    "    \"\"\"\n",
    "    Plots a confusion matrix using Seaborn's heatmap().\n",
    "    \"\"\"\n",
    "    fig, ax = plt.subplots(figsize=(3, 3))\n",
    "    ax = sns.heatmap(conf_mat,\n",
    "                     annot=True, # Annotate the boxes \n",
    "                     cbar=False,\n",
    "                     fmt='d')\n",
    "    plt.xlabel('Predicted label')\n",
    "    plt.ylabel('True label');\n",
    "\n",
    "plot_conf_mat(conf_mat)"
   ]
  }
 ],
 "metadata": {
  "kernelspec": {
   "display_name": "Python 3",
   "language": "python",
   "name": "python3"
  },
  "language_info": {
   "codemirror_mode": {
    "name": "ipython",
    "version": 3
   },
   "file_extension": ".py",
   "mimetype": "text/x-python",
   "name": "python",
   "nbconvert_exporter": "python",
   "pygments_lexer": "ipython3",
   "version": "3.9.5"
  }
 },
 "nbformat": 4,
 "nbformat_minor": 5
}
